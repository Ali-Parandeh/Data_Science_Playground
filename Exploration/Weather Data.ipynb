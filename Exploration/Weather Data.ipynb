{
 "cells": [
  {
   "cell_type": "code",
   "execution_count": 37,
   "metadata": {},
   "outputs": [],
   "source": [
    "import requests\n",
    "import io\n",
    "import xml.etree.ElementTree as ET\n",
    "import pandas as pd"
   ]
  },
  {
   "cell_type": "code",
   "execution_count": 176,
   "metadata": {},
   "outputs": [],
   "source": [
    "datapoint = \"http://datapoint.metoffice.gov.uk/public/data/\"\n",
    "resource = \"val/wxfcs/all/datatype/sitelist\"\n",
    "key = \"YOUR-API-KEY\"\n",
    "df_cols = [\"elevation\", \"id\", \"latitude\", \"longitude\", \"name\", \"region\", \"unitaryAuthArea\"]"
   ]
  },
  {
   "cell_type": "code",
   "execution_count": 122,
   "metadata": {},
   "outputs": [],
   "source": [
    "def url_constructor(datapoint, resource, key):\n",
    "    url = datapoint + resource + \"?key=\" +  key\n",
    "    return url"
   ]
  },
  {
   "cell_type": "code",
   "execution_count": 123,
   "metadata": {},
   "outputs": [],
   "source": [
    "xml_url = url_constructor(datapoint, resource, key)"
   ]
  },
  {
   "cell_type": "code",
   "execution_count": 124,
   "metadata": {},
   "outputs": [],
   "source": [
    "def xml_parser(xml_url):\n",
    "    response = requests.get(xml_url)\n",
    "    xtree = ET.fromstring(response.text) #create an ElementTree object\n",
    "    xroot= etree.getroot()"
   ]
  },
  {
   "cell_type": "code",
   "execution_count": 131,
   "metadata": {},
   "outputs": [],
   "source": [
    "def xml_to_dataframes(xroot, df_cols):\n",
    "    data_object = {}\n",
    "    data_list = []\n",
    "    \n",
    "    # Loop over column names\n",
    "    for col_nam in df_cols:\n",
    "        \n",
    "        # Loop over xml and append all data into a list\n",
    "        attrib_list = [ls.attrib.get(col_nam) for ls in xroot]\n",
    "        \n",
    "        # Assign the list as value to the object key\n",
    "        data_object[col_nam] = attrib_list\n",
    "\n",
    "    # Return a pandas dataframe using the object\n",
    "    return pd.DataFrame(data_object)"
   ]
  },
  {
   "cell_type": "code",
   "execution_count": 133,
   "metadata": {},
   "outputs": [],
   "source": [
    "sitelist = xml_to_dataframes(xroot, df_cols)"
   ]
  },
  {
   "cell_type": "code",
   "execution_count": 135,
   "metadata": {},
   "outputs": [
    {
     "name": "stdout",
     "output_type": "stream",
     "text": [
      "<class 'pandas.core.frame.DataFrame'>\n",
      "RangeIndex: 6002 entries, 0 to 6001\n",
      "Data columns (total 7 columns):\n",
      "elevation          6001 non-null object\n",
      "id                 6002 non-null object\n",
      "latitude           6002 non-null object\n",
      "longitude          6002 non-null object\n",
      "name               6002 non-null object\n",
      "region             5996 non-null object\n",
      "unitaryAuthArea    5980 non-null object\n",
      "dtypes: object(7)\n",
      "memory usage: 328.3+ KB\n"
     ]
    }
   ],
   "source": [
    "sitelist.info()"
   ]
  },
  {
   "cell_type": "code",
   "execution_count": 136,
   "metadata": {},
   "outputs": [
    {
     "data": {
      "text/html": [
       "<div>\n",
       "<style scoped>\n",
       "    .dataframe tbody tr th:only-of-type {\n",
       "        vertical-align: middle;\n",
       "    }\n",
       "\n",
       "    .dataframe tbody tr th {\n",
       "        vertical-align: top;\n",
       "    }\n",
       "\n",
       "    .dataframe thead th {\n",
       "        text-align: right;\n",
       "    }\n",
       "</style>\n",
       "<table border=\"1\" class=\"dataframe\">\n",
       "  <thead>\n",
       "    <tr style=\"text-align: right;\">\n",
       "      <th></th>\n",
       "      <th>elevation</th>\n",
       "      <th>id</th>\n",
       "      <th>latitude</th>\n",
       "      <th>longitude</th>\n",
       "      <th>name</th>\n",
       "      <th>region</th>\n",
       "      <th>unitaryAuthArea</th>\n",
       "    </tr>\n",
       "  </thead>\n",
       "  <tbody>\n",
       "    <tr>\n",
       "      <th>5997</th>\n",
       "      <td>167.0</td>\n",
       "      <td>355886</td>\n",
       "      <td>50.38299</td>\n",
       "      <td>-4.88352</td>\n",
       "      <td>St Dennis</td>\n",
       "      <td>sw</td>\n",
       "      <td>Cornwall</td>\n",
       "    </tr>\n",
       "    <tr>\n",
       "      <th>5998</th>\n",
       "      <td>108.0</td>\n",
       "      <td>355874</td>\n",
       "      <td>52.415775</td>\n",
       "      <td>-4.059387</td>\n",
       "      <td>Penglais School</td>\n",
       "      <td>wl</td>\n",
       "      <td>Ceredigion</td>\n",
       "    </tr>\n",
       "    <tr>\n",
       "      <th>5999</th>\n",
       "      <td>75.0</td>\n",
       "      <td>3930</td>\n",
       "      <td>51.55138</td>\n",
       "      <td>-2.55933</td>\n",
       "      <td>Almondsbury</td>\n",
       "      <td>sw</td>\n",
       "      <td>South Gloucestershire</td>\n",
       "    </tr>\n",
       "    <tr>\n",
       "      <th>6000</th>\n",
       "      <td>633.0</td>\n",
       "      <td>355879</td>\n",
       "      <td>53.065277</td>\n",
       "      <td>-4.1625</td>\n",
       "      <td>Grib Nantlle (Nantlle Ridge)  Y Garn</td>\n",
       "      <td>wl</td>\n",
       "      <td>Gwynedd</td>\n",
       "    </tr>\n",
       "    <tr>\n",
       "      <th>6001</th>\n",
       "      <td>35.0</td>\n",
       "      <td>355998</td>\n",
       "      <td>50.73862</td>\n",
       "      <td>-2.90325</td>\n",
       "      <td>Charmouth</td>\n",
       "      <td>sw</td>\n",
       "      <td>Dorset</td>\n",
       "    </tr>\n",
       "  </tbody>\n",
       "</table>\n",
       "</div>"
      ],
      "text/plain": [
       "     elevation      id   latitude  longitude  \\\n",
       "5997     167.0  355886   50.38299   -4.88352   \n",
       "5998     108.0  355874  52.415775  -4.059387   \n",
       "5999      75.0    3930   51.55138   -2.55933   \n",
       "6000     633.0  355879  53.065277    -4.1625   \n",
       "6001      35.0  355998   50.73862   -2.90325   \n",
       "\n",
       "                                      name region        unitaryAuthArea  \n",
       "5997                             St Dennis     sw               Cornwall  \n",
       "5998                       Penglais School     wl             Ceredigion  \n",
       "5999                           Almondsbury     sw  South Gloucestershire  \n",
       "6000  Grib Nantlle (Nantlle Ridge)  Y Garn     wl                Gwynedd  \n",
       "6001                             Charmouth     sw                 Dorset  "
      ]
     },
     "execution_count": 136,
     "metadata": {},
     "output_type": "execute_result"
    }
   ],
   "source": [
    "sitelist.tail()"
   ]
  },
  {
   "cell_type": "code",
   "execution_count": 170,
   "metadata": {},
   "outputs": [
    {
     "data": {
      "text/plain": [
       "<matplotlib.axes._subplots.AxesSubplot at 0x1d5ad80e9b0>"
      ]
     },
     "execution_count": 170,
     "metadata": {},
     "output_type": "execute_result"
    },
    {
     "data": {
      "image/png": "[encoded data removed]",
      "text/plain": [
       "<Figure size 1152x360 with 1 Axes>"
      ]
     },
     "metadata": {
      "needs_background": "light"
     },
     "output_type": "display_data"
    }
   ],
   "source": [
    "sitelist.region.value_counts().sort_values().plot(kind = \"bar\", figsize=(16, 5))"
   ]
  },
  {
   "cell_type": "code",
   "execution_count": 175,
   "metadata": {},
   "outputs": [
    {
     "data": {
      "text/html": [
       "<div>\n",
       "<style scoped>\n",
       "    .dataframe tbody tr th:only-of-type {\n",
       "        vertical-align: middle;\n",
       "    }\n",
       "\n",
       "    .dataframe tbody tr th {\n",
       "        vertical-align: top;\n",
       "    }\n",
       "\n",
       "    .dataframe thead th {\n",
       "        text-align: right;\n",
       "    }\n",
       "</style>\n",
       "<table border=\"1\" class=\"dataframe\">\n",
       "  <thead>\n",
       "    <tr style=\"text-align: right;\">\n",
       "      <th></th>\n",
       "      <th>elevation</th>\n",
       "      <th>id</th>\n",
       "      <th>latitude</th>\n",
       "      <th>longitude</th>\n",
       "      <th>name</th>\n",
       "      <th>region</th>\n",
       "      <th>unitaryAuthArea</th>\n",
       "    </tr>\n",
       "  </thead>\n",
       "  <tbody>\n",
       "    <tr>\n",
       "      <th>118</th>\n",
       "      <td>37.0</td>\n",
       "      <td>324239</td>\n",
       "      <td>51.3156</td>\n",
       "      <td>-0.5594</td>\n",
       "      <td>Woking</td>\n",
       "      <td>se</td>\n",
       "      <td>Surrey</td>\n",
       "    </tr>\n",
       "  </tbody>\n",
       "</table>\n",
       "</div>"
      ],
      "text/plain": [
       "    elevation      id latitude longitude    name region unitaryAuthArea\n",
       "118      37.0  324239  51.3156   -0.5594  Woking     se          Surrey"
      ]
     },
     "execution_count": 175,
     "metadata": {},
     "output_type": "execute_result"
    }
   ],
   "source": [
    "sitelist[sitelist.name == \"Woking\"]"
   ]
  }
 ],
 "metadata": {
  "kernelspec": {
   "display_name": "Python 3",
   "language": "python",
   "name": "python3"
  },
  "language_info": {
   "codemirror_mode": {
    "name": "ipython",
    "version": 3
   },
   "file_extension": ".py",
   "mimetype": "text/x-python",
   "name": "python",
   "nbconvert_exporter": "python",
   "pygments_lexer": "ipython3",
   "version": "3.7.1"
  }
 },
 "nbformat": 4,
 "nbformat_minor": 2
}
