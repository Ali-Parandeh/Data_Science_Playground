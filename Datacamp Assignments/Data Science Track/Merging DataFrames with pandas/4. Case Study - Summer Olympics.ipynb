{
 "cells": [
  {
   "cell_type": "markdown",
   "metadata": {},
   "source": [
    "# Case Study - Summer Olympics\n"
   ]
  },
  {
   "cell_type": "markdown",
   "metadata": {},
   "source": [
    "## 1. Loading Olympic edition DataFrame\n",
    "In this chapter, you'll be using [The Guardian's Olympic medal dataset](https://www.theguardian.com/sport/datablog/2012/jun/25/olympic-medal-winner-list-data).\n",
    "\n",
    "Your first task here is to prepare a DataFrame editions from a tab-separated values (TSV) file.\n",
    "\n",
    "Initially, editions has 26 rows (one for each Olympic edition, i.e., a year in which the Olympics was held) and 7 columns: `'Edition'`, `'Bronze'`, `'Gold'`, `'Silver'`, `'Grand Total'`, `'City'`, and `'Country'`.\n",
    "\n",
    "For the analysis that follows, you won't need the overall medal counts, so you want to keep only the useful columns from editions: `'Edition'`, `'Grand Total'`, `City`, and `Country`."
   ]
  },
  {
   "cell_type": "code",
   "execution_count": 24,
   "metadata": {},
   "outputs": [
    {
     "name": "stdout",
     "output_type": "stream",
     "text": [
      "    Edition  Grand Total         City                     Country\n",
      "0      1896          151       Athens                      Greece\n",
      "1      1900          512        Paris                      France\n",
      "2      1904          470    St. Louis               United States\n",
      "3      1908          804       London              United Kingdom\n",
      "4      1912          885    Stockholm                      Sweden\n",
      "5      1920         1298      Antwerp                     Belgium\n",
      "6      1924          884        Paris                      France\n",
      "7      1928          710    Amsterdam                 Netherlands\n",
      "8      1932          615  Los Angeles               United States\n",
      "9      1936          875       Berlin                     Germany\n",
      "10     1948          814       London              United Kingdom\n",
      "11     1952          889     Helsinki                     Finland\n",
      "12     1956          885    Melbourne                   Australia\n",
      "13     1960          882         Rome                       Italy\n",
      "14     1964         1010        Tokyo                       Japan\n",
      "15     1968         1031  Mexico City                      Mexico\n",
      "16     1972         1185       Munich  West Germany (now Germany)\n",
      "17     1976         1305     Montreal                      Canada\n",
      "18     1980         1387       Moscow       U.S.S.R. (now Russia)\n",
      "19     1984         1459  Los Angeles               United States\n",
      "20     1988         1546        Seoul                 South Korea\n",
      "21     1992         1705    Barcelona                       Spain\n",
      "22     1996         1859      Atlanta               United States\n",
      "23     2000         2015       Sydney                   Australia\n",
      "24     2004         1998       Athens                      Greece\n",
      "25     2008         2042      Beijing                       China\n"
     ]
    }
   ],
   "source": [
    "#Import pandas\n",
    "import pandas as pd\n",
    "\n",
    "# Create file path: file_path\n",
    "file_path = 'data/Summer Olympic medals/Summer Olympic medalists 1896 to 2008 - EDITIONS.tsv'\n",
    "\n",
    "# Load DataFrame from file_path: editions\n",
    "editions = pd.read_csv(file_path, sep=\"\\t\")\n",
    "\n",
    "# Extract the relevant columns: editions\n",
    "editions = editions[[\"Edition\", \"Grand Total\", \"City\", \"Country\"]]\n",
    "\n",
    "# Print editions DataFrame\n",
    "print(editions)"
   ]
  },
  {
   "cell_type": "markdown",
   "metadata": {},
   "source": [
    "Great work! Next, you'll prepare a DataFrame of IOC codes.\n",
    "\n"
   ]
  },
  {
   "cell_type": "markdown",
   "metadata": {},
   "source": [
    "## 2. Loading IOC codes DataFrame\n",
    "Your task here is to prepare a DataFrame `ioc_codes` from a comma-separated values (CSV) file.\n",
    "\n",
    "Initially, `ioc_codes` has 200 rows (one for each country) and 3 columns: `'Country'`, `'NOC'`, & `'ISO code'`.\n",
    "\n",
    "For the analysis that follows, you want to keep only the useful columns from `ioc_codes`: `'Country'` and `'NOC'` (the column `'NOC'` contains three-letter codes representing each country)."
   ]
  },
  {
   "cell_type": "code",
   "execution_count": 6,
   "metadata": {},
   "outputs": [
    {
     "name": "stdout",
     "output_type": "stream",
     "text": [
      "           Country  NOC\n",
      "0      Afghanistan  AFG\n",
      "1          Albania  ALB\n",
      "2          Algeria  ALG\n",
      "3  American Samoa*  ASA\n",
      "4          Andorra  AND\n",
      "             Country  NOC\n",
      "196          Vietnam  VIE\n",
      "197  Virgin Islands*  ISV\n",
      "198            Yemen  YEM\n",
      "199           Zambia  ZAM\n",
      "200         Zimbabwe  ZIM\n"
     ]
    }
   ],
   "source": [
    "# Create the file path: file_path\n",
    "file_path = 'data/Summer Olympic medals/Summer Olympic medalists 1896 to 2008 - IOC COUNTRY CODES.csv'\n",
    "\n",
    "# Load DataFrame from file_path: ioc_codes\n",
    "ioc_codes = pd.read_csv(file_path)\n",
    "\n",
    "# Extract the relevant columns: ioc_codes\n",
    "ioc_codes = ioc_codes[[\"Country\", \"NOC\"]]\n",
    "\n",
    "# Print first and last 5 rows of ioc_codes\n",
    "print(ioc_codes.head())\n",
    "print(ioc_codes.tail())"
   ]
  },
  {
   "cell_type": "markdown",
   "metadata": {},
   "source": [
    "## 3. Building medals DataFrame\n",
    "Here, you'll start with the DataFrame editions from the previous exercise.\n",
    "\n",
    "You have a sequence of files `summer_1896.csv`, `summer_1900.csv`, ..., `summer_2008.csv`, one for each Olympic edition (year).\n",
    "\n",
    "You will build up a dictionary medals_dict with the Olympic editions (years) as keys and DataFrames as values.\n",
    "\n",
    "The dictionary is built up inside a loop over the year of each Olympic edition (from the Index of editions).\n",
    "\n",
    "Once the dictionary of DataFrames is built up, you will combine the DataFrames using `pd.concat()`."
   ]
  },
  {
   "cell_type": "code",
   "execution_count": 29,
   "metadata": {},
   "outputs": [
    {
     "data": {
      "text/html": [
       "<div>\n",
       "<style scoped>\n",
       "    .dataframe tbody tr th:only-of-type {\n",
       "        vertical-align: middle;\n",
       "    }\n",
       "\n",
       "    .dataframe tbody tr th {\n",
       "        vertical-align: top;\n",
       "    }\n",
       "\n",
       "    .dataframe thead th {\n",
       "        text-align: right;\n",
       "    }\n",
       "</style>\n",
       "<table border=\"1\" class=\"dataframe\">\n",
       "  <thead>\n",
       "    <tr style=\"text-align: right;\">\n",
       "      <th></th>\n",
       "      <th>City</th>\n",
       "      <th>Edition</th>\n",
       "      <th>Sport</th>\n",
       "      <th>Discipline</th>\n",
       "      <th>Athlete</th>\n",
       "      <th>NOC</th>\n",
       "      <th>Gender</th>\n",
       "      <th>Event</th>\n",
       "      <th>Event_gender</th>\n",
       "      <th>Medal</th>\n",
       "    </tr>\n",
       "  </thead>\n",
       "  <tbody>\n",
       "    <tr>\n",
       "      <th>29211</th>\n",
       "      <td>Beijing</td>\n",
       "      <td>2008</td>\n",
       "      <td>Wrestling</td>\n",
       "      <td>Wrestling Gre-R</td>\n",
       "      <td>ENGLICH, Mirko</td>\n",
       "      <td>GER</td>\n",
       "      <td>Men</td>\n",
       "      <td>84 - 96kg</td>\n",
       "      <td>M</td>\n",
       "      <td>Silver</td>\n",
       "    </tr>\n",
       "    <tr>\n",
       "      <th>29212</th>\n",
       "      <td>Beijing</td>\n",
       "      <td>2008</td>\n",
       "      <td>Wrestling</td>\n",
       "      <td>Wrestling Gre-R</td>\n",
       "      <td>MIZGAITIS, Mindaugas</td>\n",
       "      <td>LTU</td>\n",
       "      <td>Men</td>\n",
       "      <td>96 - 120kg</td>\n",
       "      <td>M</td>\n",
       "      <td>Bronze</td>\n",
       "    </tr>\n",
       "    <tr>\n",
       "      <th>29213</th>\n",
       "      <td>Beijing</td>\n",
       "      <td>2008</td>\n",
       "      <td>Wrestling</td>\n",
       "      <td>Wrestling Gre-R</td>\n",
       "      <td>PATRIKEEV, Yuri</td>\n",
       "      <td>ARM</td>\n",
       "      <td>Men</td>\n",
       "      <td>96 - 120kg</td>\n",
       "      <td>M</td>\n",
       "      <td>Bronze</td>\n",
       "    </tr>\n",
       "    <tr>\n",
       "      <th>29214</th>\n",
       "      <td>Beijing</td>\n",
       "      <td>2008</td>\n",
       "      <td>Wrestling</td>\n",
       "      <td>Wrestling Gre-R</td>\n",
       "      <td>LOPEZ, Mijain</td>\n",
       "      <td>CUB</td>\n",
       "      <td>Men</td>\n",
       "      <td>96 - 120kg</td>\n",
       "      <td>M</td>\n",
       "      <td>Gold</td>\n",
       "    </tr>\n",
       "    <tr>\n",
       "      <th>29215</th>\n",
       "      <td>Beijing</td>\n",
       "      <td>2008</td>\n",
       "      <td>Wrestling</td>\n",
       "      <td>Wrestling Gre-R</td>\n",
       "      <td>BAROEV, Khasan</td>\n",
       "      <td>RUS</td>\n",
       "      <td>Men</td>\n",
       "      <td>96 - 120kg</td>\n",
       "      <td>M</td>\n",
       "      <td>Silver</td>\n",
       "    </tr>\n",
       "  </tbody>\n",
       "</table>\n",
       "</div>"
      ],
      "text/plain": [
       "          City  Edition      Sport       Discipline               Athlete  \\\n",
       "29211  Beijing     2008  Wrestling  Wrestling Gre-R        ENGLICH, Mirko   \n",
       "29212  Beijing     2008  Wrestling  Wrestling Gre-R  MIZGAITIS, Mindaugas   \n",
       "29213  Beijing     2008  Wrestling  Wrestling Gre-R       PATRIKEEV, Yuri   \n",
       "29214  Beijing     2008  Wrestling  Wrestling Gre-R         LOPEZ, Mijain   \n",
       "29215  Beijing     2008  Wrestling  Wrestling Gre-R        BAROEV, Khasan   \n",
       "\n",
       "       NOC Gender       Event Event_gender   Medal  \n",
       "29211  GER    Men   84 - 96kg            M  Silver  \n",
       "29212  LTU    Men  96 - 120kg            M  Bronze  \n",
       "29213  ARM    Men  96 - 120kg            M  Bronze  \n",
       "29214  CUB    Men  96 - 120kg            M    Gold  \n",
       "29215  RUS    Men  96 - 120kg            M  Silver  "
      ]
     },
     "execution_count": 29,
     "metadata": {},
     "output_type": "execute_result"
    }
   ],
   "source": [
    "# Loading in the main dataframe\n",
    "medals = pd.read_csv(\"data/Summer Olympic medals/Summer Olympic medalists 1896 to 2008 - ALL MEDALISTS.tsv\", sep=\"\\t\", header = 4)\n",
    "\n",
    "# Printing tail of the main df\n",
    "medals.tail()"
   ]
  },
  {
   "cell_type": "code",
   "execution_count": 21,
   "metadata": {},
   "outputs": [],
   "source": [
    "# Extracting unique list of years\n",
    "years = medals.Edition.drop_duplicates()\n",
    "\n",
    "# Slicing the main dataframe based on edition years and saving it as separate csv files to load in later\n",
    "for year in years:\n",
    "    file_path = \"data/Summer Olympic medals/summer_{:d}.csv\".format(year)\n",
    "    df = medals[medals.Edition == year]\n",
    "    df.to_csv(file_path, index = False)"
   ]
  },
  {
   "cell_type": "code",
   "execution_count": 26,
   "metadata": {
    "scrolled": false
   },
   "outputs": [],
   "source": [
    "# Create empty dictionary: medals_dict\n",
    "medals_dict = {}\n",
    "\n",
    "for year in editions['Edition']:\n",
    "\n",
    "    # Create the file path: file_path\n",
    "    file_path = 'data/Summer Olympic medals/summer_{:d}.csv'.format(year)\n",
    "    \n",
    "    # Load file_path into a DataFrame: medals_dict[year]\n",
    "    medals_dict[year] = pd.read_csv(file_path)\n",
    "    \n",
    "    # Extract relevant columns: medals_dict[year]\n",
    "    medals_dict[year] = medals_dict[year][[\"Athlete\", \"NOC\", \"Medal\"]]\n",
    "    \n",
    "    # Assign year to column 'Edition' of medals_dict\n",
    "    medals_dict[year]['Edition'] = year"
   ]
  },
  {
   "cell_type": "code",
   "execution_count": 27,
   "metadata": {},
   "outputs": [
    {
     "name": "stdout",
     "output_type": "stream",
     "text": [
      "              Athlete  NOC   Medal  Edition\n",
      "0       HAJOS, Alfred  HUN    Gold     1896\n",
      "1    HERSCHMANN, Otto  AUT  Silver     1896\n",
      "2   DRIVAS, Dimitrios  GRE  Bronze     1896\n",
      "3  MALOKINIS, Ioannis  GRE    Gold     1896\n",
      "4  CHASAPIS, Spiridon  GRE  Silver     1896\n",
      "                    Athlete  NOC   Medal  Edition\n",
      "29211        ENGLICH, Mirko  GER  Silver     2008\n",
      "29212  MIZGAITIS, Mindaugas  LTU  Bronze     2008\n",
      "29213       PATRIKEEV, Yuri  ARM  Bronze     2008\n",
      "29214         LOPEZ, Mijain  CUB    Gold     2008\n",
      "29215        BAROEV, Khasan  RUS  Silver     2008\n"
     ]
    }
   ],
   "source": [
    "# Concatenate medals_dict: medals\n",
    "medals = pd.concat(medals_dict, ignore_index=True)\n",
    "\n",
    "# Print first and last 5 rows of medals\n",
    "print(medals.head())\n",
    "print(medals.tail())"
   ]
  },
  {
   "cell_type": "markdown",
   "metadata": {},
   "source": [
    "Fantastic! You're now ready to begin analyzing the medal data.\n",
    "\n"
   ]
  },
  {
   "cell_type": "markdown",
   "metadata": {},
   "source": [
    "## 4. Counting medals by country/edition in a pivot table\n",
    "Here, you'll start with the concatenated DataFrame medals from the previous exercise.\n",
    "\n",
    "You can construct a pivot table to see the number of medals each country won in each year. The result is a new DataFrame with the Olympic edition on the Index and with 138 country `NOC` codes as columns. If you want a refresher on pivot tables, it may be useful to refer back to the relevant exercises in Manipulating DataFrames with pandas."
   ]
  },
  {
   "cell_type": "code",
   "execution_count": 34,
   "metadata": {},
   "outputs": [
    {
     "data": {
      "text/html": [
       "<div>\n",
       "<style scoped>\n",
       "    .dataframe tbody tr th:only-of-type {\n",
       "        vertical-align: middle;\n",
       "    }\n",
       "\n",
       "    .dataframe tbody tr th {\n",
       "        vertical-align: top;\n",
       "    }\n",
       "\n",
       "    .dataframe thead th {\n",
       "        text-align: right;\n",
       "    }\n",
       "</style>\n",
       "<table border=\"1\" class=\"dataframe\">\n",
       "  <thead>\n",
       "    <tr style=\"text-align: right;\">\n",
       "      <th>NOC</th>\n",
       "      <th>AFG</th>\n",
       "      <th>AHO</th>\n",
       "      <th>ALG</th>\n",
       "      <th>ANZ</th>\n",
       "      <th>ARG</th>\n",
       "      <th>ARM</th>\n",
       "      <th>AUS</th>\n",
       "      <th>AUT</th>\n",
       "      <th>AZE</th>\n",
       "      <th>BAH</th>\n",
       "      <th>...</th>\n",
       "      <th>URS</th>\n",
       "      <th>URU</th>\n",
       "      <th>USA</th>\n",
       "      <th>UZB</th>\n",
       "      <th>VEN</th>\n",
       "      <th>VIE</th>\n",
       "      <th>YUG</th>\n",
       "      <th>ZAM</th>\n",
       "      <th>ZIM</th>\n",
       "      <th>ZZX</th>\n",
       "    </tr>\n",
       "    <tr>\n",
       "      <th>Edition</th>\n",
       "      <th></th>\n",
       "      <th></th>\n",
       "      <th></th>\n",
       "      <th></th>\n",
       "      <th></th>\n",
       "      <th></th>\n",
       "      <th></th>\n",
       "      <th></th>\n",
       "      <th></th>\n",
       "      <th></th>\n",
       "      <th></th>\n",
       "      <th></th>\n",
       "      <th></th>\n",
       "      <th></th>\n",
       "      <th></th>\n",
       "      <th></th>\n",
       "      <th></th>\n",
       "      <th></th>\n",
       "      <th></th>\n",
       "      <th></th>\n",
       "      <th></th>\n",
       "    </tr>\n",
       "  </thead>\n",
       "  <tbody>\n",
       "    <tr>\n",
       "      <th>1896</th>\n",
       "      <td>NaN</td>\n",
       "      <td>NaN</td>\n",
       "      <td>NaN</td>\n",
       "      <td>NaN</td>\n",
       "      <td>NaN</td>\n",
       "      <td>NaN</td>\n",
       "      <td>2.0</td>\n",
       "      <td>5.0</td>\n",
       "      <td>NaN</td>\n",
       "      <td>NaN</td>\n",
       "      <td>...</td>\n",
       "      <td>NaN</td>\n",
       "      <td>NaN</td>\n",
       "      <td>20.0</td>\n",
       "      <td>NaN</td>\n",
       "      <td>NaN</td>\n",
       "      <td>NaN</td>\n",
       "      <td>NaN</td>\n",
       "      <td>NaN</td>\n",
       "      <td>NaN</td>\n",
       "      <td>6.0</td>\n",
       "    </tr>\n",
       "    <tr>\n",
       "      <th>1900</th>\n",
       "      <td>NaN</td>\n",
       "      <td>NaN</td>\n",
       "      <td>NaN</td>\n",
       "      <td>NaN</td>\n",
       "      <td>NaN</td>\n",
       "      <td>NaN</td>\n",
       "      <td>5.0</td>\n",
       "      <td>6.0</td>\n",
       "      <td>NaN</td>\n",
       "      <td>NaN</td>\n",
       "      <td>...</td>\n",
       "      <td>NaN</td>\n",
       "      <td>NaN</td>\n",
       "      <td>55.0</td>\n",
       "      <td>NaN</td>\n",
       "      <td>NaN</td>\n",
       "      <td>NaN</td>\n",
       "      <td>NaN</td>\n",
       "      <td>NaN</td>\n",
       "      <td>NaN</td>\n",
       "      <td>34.0</td>\n",
       "    </tr>\n",
       "    <tr>\n",
       "      <th>1904</th>\n",
       "      <td>NaN</td>\n",
       "      <td>NaN</td>\n",
       "      <td>NaN</td>\n",
       "      <td>NaN</td>\n",
       "      <td>NaN</td>\n",
       "      <td>NaN</td>\n",
       "      <td>NaN</td>\n",
       "      <td>1.0</td>\n",
       "      <td>NaN</td>\n",
       "      <td>NaN</td>\n",
       "      <td>...</td>\n",
       "      <td>NaN</td>\n",
       "      <td>NaN</td>\n",
       "      <td>394.0</td>\n",
       "      <td>NaN</td>\n",
       "      <td>NaN</td>\n",
       "      <td>NaN</td>\n",
       "      <td>NaN</td>\n",
       "      <td>NaN</td>\n",
       "      <td>NaN</td>\n",
       "      <td>8.0</td>\n",
       "    </tr>\n",
       "    <tr>\n",
       "      <th>1908</th>\n",
       "      <td>NaN</td>\n",
       "      <td>NaN</td>\n",
       "      <td>NaN</td>\n",
       "      <td>19.0</td>\n",
       "      <td>NaN</td>\n",
       "      <td>NaN</td>\n",
       "      <td>NaN</td>\n",
       "      <td>1.0</td>\n",
       "      <td>NaN</td>\n",
       "      <td>NaN</td>\n",
       "      <td>...</td>\n",
       "      <td>NaN</td>\n",
       "      <td>NaN</td>\n",
       "      <td>63.0</td>\n",
       "      <td>NaN</td>\n",
       "      <td>NaN</td>\n",
       "      <td>NaN</td>\n",
       "      <td>NaN</td>\n",
       "      <td>NaN</td>\n",
       "      <td>NaN</td>\n",
       "      <td>NaN</td>\n",
       "    </tr>\n",
       "    <tr>\n",
       "      <th>1912</th>\n",
       "      <td>NaN</td>\n",
       "      <td>NaN</td>\n",
       "      <td>NaN</td>\n",
       "      <td>10.0</td>\n",
       "      <td>NaN</td>\n",
       "      <td>NaN</td>\n",
       "      <td>NaN</td>\n",
       "      <td>14.0</td>\n",
       "      <td>NaN</td>\n",
       "      <td>NaN</td>\n",
       "      <td>...</td>\n",
       "      <td>NaN</td>\n",
       "      <td>NaN</td>\n",
       "      <td>101.0</td>\n",
       "      <td>NaN</td>\n",
       "      <td>NaN</td>\n",
       "      <td>NaN</td>\n",
       "      <td>NaN</td>\n",
       "      <td>NaN</td>\n",
       "      <td>NaN</td>\n",
       "      <td>NaN</td>\n",
       "    </tr>\n",
       "  </tbody>\n",
       "</table>\n",
       "<p>5 rows × 138 columns</p>\n",
       "</div>"
      ],
      "text/plain": [
       "NOC      AFG  AHO  ALG   ANZ  ARG  ARM  AUS   AUT  AZE  BAH  ...   URS  URU  \\\n",
       "Edition                                                      ...              \n",
       "1896     NaN  NaN  NaN   NaN  NaN  NaN  2.0   5.0  NaN  NaN  ...   NaN  NaN   \n",
       "1900     NaN  NaN  NaN   NaN  NaN  NaN  5.0   6.0  NaN  NaN  ...   NaN  NaN   \n",
       "1904     NaN  NaN  NaN   NaN  NaN  NaN  NaN   1.0  NaN  NaN  ...   NaN  NaN   \n",
       "1908     NaN  NaN  NaN  19.0  NaN  NaN  NaN   1.0  NaN  NaN  ...   NaN  NaN   \n",
       "1912     NaN  NaN  NaN  10.0  NaN  NaN  NaN  14.0  NaN  NaN  ...   NaN  NaN   \n",
       "\n",
       "NOC        USA  UZB  VEN  VIE  YUG  ZAM  ZIM   ZZX  \n",
       "Edition                                             \n",
       "1896      20.0  NaN  NaN  NaN  NaN  NaN  NaN   6.0  \n",
       "1900      55.0  NaN  NaN  NaN  NaN  NaN  NaN  34.0  \n",
       "1904     394.0  NaN  NaN  NaN  NaN  NaN  NaN   8.0  \n",
       "1908      63.0  NaN  NaN  NaN  NaN  NaN  NaN   NaN  \n",
       "1912     101.0  NaN  NaN  NaN  NaN  NaN  NaN   NaN  \n",
       "\n",
       "[5 rows x 138 columns]"
      ]
     },
     "execution_count": 34,
     "metadata": {},
     "output_type": "execute_result"
    }
   ],
   "source": [
    "# Construct the pivot_table: medal_counts\n",
    "medal_counts = medals.pivot_table(index = \"Edition\", values = \"Athlete\", columns=\"NOC\", aggfunc=\"count\")\n",
    "\n",
    "# Print the first & last 5 rows of medal_counts\n",
    "medal_counts.head()"
   ]
  },
  {
   "cell_type": "code",
   "execution_count": 36,
   "metadata": {},
   "outputs": [
    {
     "data": {
      "text/html": [
       "<div>\n",
       "<style scoped>\n",
       "    .dataframe tbody tr th:only-of-type {\n",
       "        vertical-align: middle;\n",
       "    }\n",
       "\n",
       "    .dataframe tbody tr th {\n",
       "        vertical-align: top;\n",
       "    }\n",
       "\n",
       "    .dataframe thead th {\n",
       "        text-align: right;\n",
       "    }\n",
       "</style>\n",
       "<table border=\"1\" class=\"dataframe\">\n",
       "  <thead>\n",
       "    <tr style=\"text-align: right;\">\n",
       "      <th>NOC</th>\n",
       "      <th>AFG</th>\n",
       "      <th>AHO</th>\n",
       "      <th>ALG</th>\n",
       "      <th>ANZ</th>\n",
       "      <th>ARG</th>\n",
       "      <th>ARM</th>\n",
       "      <th>AUS</th>\n",
       "      <th>AUT</th>\n",
       "      <th>AZE</th>\n",
       "      <th>BAH</th>\n",
       "      <th>...</th>\n",
       "      <th>URS</th>\n",
       "      <th>URU</th>\n",
       "      <th>USA</th>\n",
       "      <th>UZB</th>\n",
       "      <th>VEN</th>\n",
       "      <th>VIE</th>\n",
       "      <th>YUG</th>\n",
       "      <th>ZAM</th>\n",
       "      <th>ZIM</th>\n",
       "      <th>ZZX</th>\n",
       "    </tr>\n",
       "    <tr>\n",
       "      <th>Edition</th>\n",
       "      <th></th>\n",
       "      <th></th>\n",
       "      <th></th>\n",
       "      <th></th>\n",
       "      <th></th>\n",
       "      <th></th>\n",
       "      <th></th>\n",
       "      <th></th>\n",
       "      <th></th>\n",
       "      <th></th>\n",
       "      <th></th>\n",
       "      <th></th>\n",
       "      <th></th>\n",
       "      <th></th>\n",
       "      <th></th>\n",
       "      <th></th>\n",
       "      <th></th>\n",
       "      <th></th>\n",
       "      <th></th>\n",
       "      <th></th>\n",
       "      <th></th>\n",
       "    </tr>\n",
       "  </thead>\n",
       "  <tbody>\n",
       "    <tr>\n",
       "      <th>1992</th>\n",
       "      <td>NaN</td>\n",
       "      <td>NaN</td>\n",
       "      <td>2.0</td>\n",
       "      <td>NaN</td>\n",
       "      <td>2.0</td>\n",
       "      <td>NaN</td>\n",
       "      <td>57.0</td>\n",
       "      <td>6.0</td>\n",
       "      <td>NaN</td>\n",
       "      <td>1.0</td>\n",
       "      <td>...</td>\n",
       "      <td>NaN</td>\n",
       "      <td>NaN</td>\n",
       "      <td>224.0</td>\n",
       "      <td>NaN</td>\n",
       "      <td>NaN</td>\n",
       "      <td>NaN</td>\n",
       "      <td>NaN</td>\n",
       "      <td>NaN</td>\n",
       "      <td>NaN</td>\n",
       "      <td>NaN</td>\n",
       "    </tr>\n",
       "    <tr>\n",
       "      <th>1996</th>\n",
       "      <td>NaN</td>\n",
       "      <td>NaN</td>\n",
       "      <td>3.0</td>\n",
       "      <td>NaN</td>\n",
       "      <td>20.0</td>\n",
       "      <td>2.0</td>\n",
       "      <td>132.0</td>\n",
       "      <td>3.0</td>\n",
       "      <td>1.0</td>\n",
       "      <td>5.0</td>\n",
       "      <td>...</td>\n",
       "      <td>NaN</td>\n",
       "      <td>NaN</td>\n",
       "      <td>260.0</td>\n",
       "      <td>2.0</td>\n",
       "      <td>NaN</td>\n",
       "      <td>NaN</td>\n",
       "      <td>26.0</td>\n",
       "      <td>1.0</td>\n",
       "      <td>NaN</td>\n",
       "      <td>NaN</td>\n",
       "    </tr>\n",
       "    <tr>\n",
       "      <th>2000</th>\n",
       "      <td>NaN</td>\n",
       "      <td>NaN</td>\n",
       "      <td>5.0</td>\n",
       "      <td>NaN</td>\n",
       "      <td>20.0</td>\n",
       "      <td>1.0</td>\n",
       "      <td>183.0</td>\n",
       "      <td>4.0</td>\n",
       "      <td>3.0</td>\n",
       "      <td>6.0</td>\n",
       "      <td>...</td>\n",
       "      <td>NaN</td>\n",
       "      <td>1.0</td>\n",
       "      <td>248.0</td>\n",
       "      <td>4.0</td>\n",
       "      <td>NaN</td>\n",
       "      <td>1.0</td>\n",
       "      <td>26.0</td>\n",
       "      <td>NaN</td>\n",
       "      <td>NaN</td>\n",
       "      <td>NaN</td>\n",
       "    </tr>\n",
       "    <tr>\n",
       "      <th>2004</th>\n",
       "      <td>NaN</td>\n",
       "      <td>NaN</td>\n",
       "      <td>NaN</td>\n",
       "      <td>NaN</td>\n",
       "      <td>47.0</td>\n",
       "      <td>NaN</td>\n",
       "      <td>157.0</td>\n",
       "      <td>8.0</td>\n",
       "      <td>5.0</td>\n",
       "      <td>2.0</td>\n",
       "      <td>...</td>\n",
       "      <td>NaN</td>\n",
       "      <td>NaN</td>\n",
       "      <td>264.0</td>\n",
       "      <td>5.0</td>\n",
       "      <td>2.0</td>\n",
       "      <td>NaN</td>\n",
       "      <td>NaN</td>\n",
       "      <td>NaN</td>\n",
       "      <td>3.0</td>\n",
       "      <td>NaN</td>\n",
       "    </tr>\n",
       "    <tr>\n",
       "      <th>2008</th>\n",
       "      <td>1.0</td>\n",
       "      <td>NaN</td>\n",
       "      <td>2.0</td>\n",
       "      <td>NaN</td>\n",
       "      <td>51.0</td>\n",
       "      <td>6.0</td>\n",
       "      <td>149.0</td>\n",
       "      <td>3.0</td>\n",
       "      <td>7.0</td>\n",
       "      <td>5.0</td>\n",
       "      <td>...</td>\n",
       "      <td>NaN</td>\n",
       "      <td>NaN</td>\n",
       "      <td>315.0</td>\n",
       "      <td>6.0</td>\n",
       "      <td>1.0</td>\n",
       "      <td>1.0</td>\n",
       "      <td>NaN</td>\n",
       "      <td>NaN</td>\n",
       "      <td>4.0</td>\n",
       "      <td>NaN</td>\n",
       "    </tr>\n",
       "  </tbody>\n",
       "</table>\n",
       "<p>5 rows × 138 columns</p>\n",
       "</div>"
      ],
      "text/plain": [
       "NOC      AFG  AHO  ALG  ANZ   ARG  ARM    AUS  AUT  AZE  BAH ...   URS  URU  \\\n",
       "Edition                                                      ...              \n",
       "1992     NaN  NaN  2.0  NaN   2.0  NaN   57.0  6.0  NaN  1.0 ...   NaN  NaN   \n",
       "1996     NaN  NaN  3.0  NaN  20.0  2.0  132.0  3.0  1.0  5.0 ...   NaN  NaN   \n",
       "2000     NaN  NaN  5.0  NaN  20.0  1.0  183.0  4.0  3.0  6.0 ...   NaN  1.0   \n",
       "2004     NaN  NaN  NaN  NaN  47.0  NaN  157.0  8.0  5.0  2.0 ...   NaN  NaN   \n",
       "2008     1.0  NaN  2.0  NaN  51.0  6.0  149.0  3.0  7.0  5.0 ...   NaN  NaN   \n",
       "\n",
       "NOC        USA  UZB  VEN  VIE   YUG  ZAM  ZIM  ZZX  \n",
       "Edition                                             \n",
       "1992     224.0  NaN  NaN  NaN   NaN  NaN  NaN  NaN  \n",
       "1996     260.0  2.0  NaN  NaN  26.0  1.0  NaN  NaN  \n",
       "2000     248.0  4.0  NaN  1.0  26.0  NaN  NaN  NaN  \n",
       "2004     264.0  5.0  2.0  NaN   NaN  NaN  3.0  NaN  \n",
       "2008     315.0  6.0  1.0  1.0   NaN  NaN  4.0  NaN  \n",
       "\n",
       "[5 rows x 138 columns]"
      ]
     },
     "execution_count": 36,
     "metadata": {},
     "output_type": "execute_result"
    }
   ],
   "source": [
    "medal_counts.tail()"
   ]
  },
  {
   "cell_type": "markdown",
   "metadata": {},
   "source": [
    "Great work! As you can see, the pivot table DataFrame has mostly `NaN` entries (because most countries do not win any medals in a given Olympic edition).\n",
    "\n"
   ]
  },
  {
   "cell_type": "markdown",
   "metadata": {},
   "source": [
    "## 5. Computing fraction of medals per Olympic edition\n",
    "In this exercise, you'll start with the DataFrames editions, `medals`, & `medal_counts` from prior exercises.\n",
    "\n",
    "You can extract a Series with the total number of medals awarded in each Olympic edition.\n",
    "\n",
    "The DataFrame `medal_counts` can be divided row-wise by the total number of medals awarded each edition; the method `.divide()` performs the broadcast as you require.\n",
    "\n",
    "This gives you a normalized indication of each country's performance in each edition."
   ]
  },
  {
   "cell_type": "code",
   "execution_count": 48,
   "metadata": {},
   "outputs": [],
   "source": [
    "# Set Index of editions: totals\n",
    "totals = editions.set_index(\"Edition\")\n",
    "\n",
    "# Reassign totals['Grand Total']: totals\n",
    "totals = totals[\"Grand Total\"]"
   ]
  },
  {
   "cell_type": "code",
   "execution_count": 49,
   "metadata": {
    "scrolled": true
   },
   "outputs": [
    {
     "name": "stdout",
     "output_type": "stream",
     "text": [
      "NOC      AFG  AHO  ALG       ANZ  ARG  ARM       AUS       AUT  AZE  BAH  \\\n",
      "Edition                                                                    \n",
      "1896     NaN  NaN  NaN       NaN  NaN  NaN  0.013245  0.033113  NaN  NaN   \n",
      "1900     NaN  NaN  NaN       NaN  NaN  NaN  0.009766  0.011719  NaN  NaN   \n",
      "1904     NaN  NaN  NaN       NaN  NaN  NaN       NaN  0.002128  NaN  NaN   \n",
      "1908     NaN  NaN  NaN  0.023632  NaN  NaN       NaN  0.001244  NaN  NaN   \n",
      "1912     NaN  NaN  NaN  0.011299  NaN  NaN       NaN  0.015819  NaN  NaN   \n",
      "\n",
      "NOC        ...     URS  URU       USA  UZB  VEN  VIE  YUG  ZAM  ZIM       ZZX  \n",
      "Edition    ...                                                                 \n",
      "1896       ...     NaN  NaN  0.132450  NaN  NaN  NaN  NaN  NaN  NaN  0.039735  \n",
      "1900       ...     NaN  NaN  0.107422  NaN  NaN  NaN  NaN  NaN  NaN  0.066406  \n",
      "1904       ...     NaN  NaN  0.838298  NaN  NaN  NaN  NaN  NaN  NaN  0.017021  \n",
      "1908       ...     NaN  NaN  0.078358  NaN  NaN  NaN  NaN  NaN  NaN       NaN  \n",
      "1912       ...     NaN  NaN  0.114124  NaN  NaN  NaN  NaN  NaN  NaN       NaN  \n",
      "\n",
      "[5 rows x 138 columns]\n"
     ]
    }
   ],
   "source": [
    "# Divide medal_counts by totals: fractions\n",
    "fractions = medal_counts.divide(totals, axis = \"rows\")\n",
    "\n",
    "# Print first & last 5 rows of fractions\n",
    "print(fractions.head())"
   ]
  },
  {
   "cell_type": "code",
   "execution_count": 50,
   "metadata": {},
   "outputs": [
    {
     "name": "stdout",
     "output_type": "stream",
     "text": [
      "NOC          AFG  AHO       ALG  ANZ       ARG       ARM       AUS       AUT  \\\n",
      "Edition                                                                        \n",
      "1992         NaN  NaN  0.001173  NaN  0.001173       NaN  0.033431  0.003519   \n",
      "1996         NaN  NaN  0.001614  NaN  0.010758  0.001076  0.071006  0.001614   \n",
      "2000         NaN  NaN  0.002481  NaN  0.009926  0.000496  0.090819  0.001985   \n",
      "2004         NaN  NaN       NaN  NaN  0.023524       NaN  0.078579  0.004004   \n",
      "2008     0.00049  NaN  0.000979  NaN  0.024976  0.002938  0.072968  0.001469   \n",
      "\n",
      "NOC           AZE       BAH ...   URS       URU       USA       UZB       VEN  \\\n",
      "Edition                     ...                                                 \n",
      "1992          NaN  0.000587 ...   NaN       NaN  0.131378       NaN       NaN   \n",
      "1996     0.000538  0.002690 ...   NaN       NaN  0.139860  0.001076       NaN   \n",
      "2000     0.001489  0.002978 ...   NaN  0.000496  0.123077  0.001985       NaN   \n",
      "2004     0.002503  0.001001 ...   NaN       NaN  0.132132  0.002503  0.001001   \n",
      "2008     0.003428  0.002449 ...   NaN       NaN  0.154261  0.002938  0.000490   \n",
      "\n",
      "NOC           VIE       YUG       ZAM       ZIM  ZZX  \n",
      "Edition                                               \n",
      "1992          NaN       NaN       NaN       NaN  NaN  \n",
      "1996          NaN  0.013986  0.000538       NaN  NaN  \n",
      "2000     0.000496  0.012903       NaN       NaN  NaN  \n",
      "2004          NaN       NaN       NaN  0.001502  NaN  \n",
      "2008     0.000490       NaN       NaN  0.001959  NaN  \n",
      "\n",
      "[5 rows x 138 columns]\n"
     ]
    }
   ],
   "source": [
    "print(fractions.tail())"
   ]
  },
  {
   "cell_type": "markdown",
   "metadata": {},
   "source": [
    "## 6. Computing percentage change in fraction of medals won\n",
    "Here, you'll start with the DataFrames `editions`, `medals`, `medal_counts`, & `fractions` from prior exercises.\n",
    "\n",
    "To see if there is a host country advantage, you first want to see how the fraction of medals won changes from edition to edition.\n",
    "\n",
    "The expanding mean provides a way to see this down each column. It is the value of the mean with all the data available up to that point in time. If you are interested in learning more about pandas' expanding transformations, this section of the [pandas documentation](http://pandas.pydata.org/pandas-docs/stable/computation.html#expanding-windows) has additional information."
   ]
  },
  {
   "cell_type": "code",
   "execution_count": 57,
   "metadata": {
    "scrolled": false
   },
   "outputs": [
    {
     "name": "stdout",
     "output_type": "stream",
     "text": [
      "NOC          AFG       AHO       ALG       ANZ       ARG       ARM       AUS  \\\n",
      "Edition                                                                        \n",
      "1992         NaN  0.000647  0.001272  0.017466  0.009095       NaN  0.022551   \n",
      "1996         NaN  0.000647  0.001386  0.017466  0.009214  0.001076  0.024974   \n",
      "2000         NaN  0.000647  0.001660  0.017466  0.009261  0.000786  0.028109   \n",
      "2004         NaN  0.000647  0.001660  0.017466  0.010152  0.000786  0.030403   \n",
      "2008     0.00049  0.000647  0.001524  0.017466  0.011024  0.001503  0.032254   \n",
      "\n",
      "NOC           AUT       AZE       BAH    ...          URS       URU       USA  \\\n",
      "Edition                                  ...                                    \n",
      "1992     0.008682       NaN  0.001609    ...     0.197122  0.013069  0.179834   \n",
      "1996     0.008345  0.000538  0.001879    ...     0.197122  0.013069  0.178017   \n",
      "2000     0.008056  0.001013  0.002099    ...     0.197122  0.011497  0.175629   \n",
      "2004     0.007880  0.001510  0.001916    ...     0.197122  0.011497  0.173816   \n",
      "2008     0.007613  0.001989  0.001992    ...     0.197122  0.011497  0.173034   \n",
      "\n",
      "NOC           UZB       VEN       VIE       YUG       ZAM       ZIM       ZZX  \n",
      "Edition                                                                        \n",
      "1992          NaN  0.001129       NaN  0.023316  0.000685  0.011536  0.041054  \n",
      "1996     0.001076  0.001129       NaN  0.022694  0.000612  0.011536  0.041054  \n",
      "2000     0.001530  0.001129  0.000496  0.022082  0.000612  0.011536  0.041054  \n",
      "2004     0.001854  0.001110  0.000496  0.022082  0.000612  0.006519  0.041054  \n",
      "2008     0.002125  0.001033  0.000493  0.022082  0.000612  0.004999  0.041054  \n",
      "\n",
      "[5 rows x 138 columns]\n"
     ]
    }
   ],
   "source": [
    "# Apply the expanding mean: mean_fractions\n",
    "mean_fractions = fractions.expanding().mean()\n",
    "\n",
    "print(mean_fractions.tail())"
   ]
  },
  {
   "cell_type": "code",
   "execution_count": 58,
   "metadata": {},
   "outputs": [
    {
     "name": "stdout",
     "output_type": "stream",
     "text": [
      "NOC      AFG  AHO        ALG  ANZ       ARG        ARM        AUS       AUT  \\\n",
      "Edition                                                                       \n",
      "1992     NaN  0.0  -7.214076  0.0 -6.767308        NaN   2.754114 -3.034840   \n",
      "1996     NaN  0.0   8.959211  0.0  1.306696        NaN  10.743275 -3.876773   \n",
      "2000     NaN  0.0  19.762488  0.0  0.515190 -26.935484  12.554986 -3.464221   \n",
      "2004     NaN  0.0   0.000000  0.0  9.625365   0.000000   8.161162 -2.186922   \n",
      "2008     NaN  0.0  -8.197807  0.0  8.588555  91.266408   6.086870 -3.389836   \n",
      "\n",
      "NOC            AZE        BAH ...   URS        URU       USA        UZB  \\\n",
      "Edition                       ...                                         \n",
      "1992           NaN -24.111659 ...   0.0   0.000000 -1.329330        NaN   \n",
      "1996           NaN  16.793717 ...   0.0   0.000000 -1.010378        NaN   \n",
      "2000     88.387097  11.693273 ...   0.0 -12.025323 -1.341842  42.258065   \n",
      "2004     48.982144  -8.717582 ...   0.0   0.000000 -1.031922  21.170339   \n",
      "2008     31.764436   3.972696 ...   0.0   0.000000 -0.450031  14.610625   \n",
      "\n",
      "NOC           VEN       VIE       YUG        ZAM        ZIM  ZZX  \n",
      "Edition                                                           \n",
      "1992     0.000000       NaN  0.000000   0.000000   0.000000  0.0  \n",
      "1996     0.000000       NaN -2.667732 -10.758472   0.000000  0.0  \n",
      "2000     0.000000       NaN -2.696445   0.000000   0.000000  0.0  \n",
      "2004    -1.615969  0.000000  0.000000   0.000000 -43.491929  0.0  \n",
      "2008    -6.987342 -0.661117  0.000000   0.000000 -23.316533  0.0  \n",
      "\n",
      "[5 rows x 138 columns]\n"
     ]
    }
   ],
   "source": [
    "# Compute the percentage change: fractions_change\n",
    "fractions_change = mean_fractions.pct_change() * 100\n",
    "\n",
    "print(fractions_change.tail())"
   ]
  },
  {
   "cell_type": "code",
   "execution_count": 52,
   "metadata": {
    "scrolled": true
   },
   "outputs": [
    {
     "name": "stdout",
     "output_type": "stream",
     "text": [
      "NOC  Edition  AFG  AHO  ALG        ANZ  ARG  ARM        AUS        AUT  AZE  \\\n",
      "0       1896  NaN  NaN  NaN        NaN  NaN  NaN        NaN        NaN  NaN   \n",
      "1       1900  NaN  NaN  NaN        NaN  NaN  NaN -13.134766 -32.304688  NaN   \n",
      "2       1904  NaN  NaN  NaN        NaN  NaN  NaN   0.000000 -30.169386  NaN   \n",
      "3       1908  NaN  NaN  NaN        NaN  NaN  NaN   0.000000 -23.013510  NaN   \n",
      "4       1912  NaN  NaN  NaN -26.092774  NaN  NaN   0.000000   6.254438  NaN   \n",
      "\n",
      "NOC    ...      URS  URU         USA  UZB  VEN  VIE  YUG  ZAM  ZIM        ZZX  \n",
      "0      ...      NaN  NaN         NaN  NaN  NaN  NaN  NaN  NaN  NaN        NaN  \n",
      "1      ...      NaN  NaN   -9.448242  NaN  NaN  NaN  NaN  NaN  NaN  33.561198  \n",
      "2      ...      NaN  NaN  199.651245  NaN  NaN  NaN  NaN  NaN  NaN -22.642384  \n",
      "3      ...      NaN  NaN  -19.549222  NaN  NaN  NaN  NaN  NaN  NaN   0.000000  \n",
      "4      ...      NaN  NaN  -12.105733  NaN  NaN  NaN  NaN  NaN  NaN   0.000000  \n",
      "\n",
      "[5 rows x 139 columns]\n"
     ]
    }
   ],
   "source": [
    "# Reset the index of fractions_change: fractions_change\n",
    "fractions_change = fractions_change.reset_index()\n",
    "\n",
    "# Print first & last 5 rows of fractions_change\n",
    "print(fractions_change.head())"
   ]
  },
  {
   "cell_type": "code",
   "execution_count": 53,
   "metadata": {},
   "outputs": [
    {
     "name": "stdout",
     "output_type": "stream",
     "text": [
      "NOC  Edition  AFG  AHO        ALG  ANZ       ARG        ARM        AUS  \\\n",
      "21      1992  NaN  0.0  -7.214076  0.0 -6.767308        NaN   2.754114   \n",
      "22      1996  NaN  0.0   8.959211  0.0  1.306696        NaN  10.743275   \n",
      "23      2000  NaN  0.0  19.762488  0.0  0.515190 -26.935484  12.554986   \n",
      "24      2004  NaN  0.0   0.000000  0.0  9.625365   0.000000   8.161162   \n",
      "25      2008  NaN  0.0  -8.197807  0.0  8.588555  91.266408   6.086870   \n",
      "\n",
      "NOC       AUT        AZE ...   URS        URU       USA        UZB       VEN  \\\n",
      "21  -3.034840        NaN ...   0.0   0.000000 -1.329330        NaN  0.000000   \n",
      "22  -3.876773        NaN ...   0.0   0.000000 -1.010378        NaN  0.000000   \n",
      "23  -3.464221  88.387097 ...   0.0 -12.025323 -1.341842  42.258065  0.000000   \n",
      "24  -2.186922  48.982144 ...   0.0   0.000000 -1.031922  21.170339 -1.615969   \n",
      "25  -3.389836  31.764436 ...   0.0   0.000000 -0.450031  14.610625 -6.987342   \n",
      "\n",
      "NOC       VIE       YUG        ZAM        ZIM  ZZX  \n",
      "21        NaN  0.000000   0.000000   0.000000  0.0  \n",
      "22        NaN -2.667732 -10.758472   0.000000  0.0  \n",
      "23        NaN -2.696445   0.000000   0.000000  0.0  \n",
      "24   0.000000  0.000000   0.000000 -43.491929  0.0  \n",
      "25  -0.661117  0.000000   0.000000 -23.316533  0.0  \n",
      "\n",
      "[5 rows x 139 columns]\n"
     ]
    }
   ],
   "source": [
    "print(fractions_change.tail())"
   ]
  },
  {
   "cell_type": "markdown",
   "metadata": {},
   "source": [
    "## 7. Building hosts DataFrame\n",
    "Your task here is to prepare a DataFrame hosts by left joining `editions` and `ioc_codes`.\n",
    "\n",
    "Once created, you will subset the `Edition` and `NOC` columns and set `Edition` as the Index.\n",
    "\n",
    "There are some missing `NOC` values; you will set those explicitly.\n",
    "\n",
    "Finally, you'll reset the Index & print the final DataFrame."
   ]
  },
  {
   "cell_type": "code",
   "execution_count": 66,
   "metadata": {},
   "outputs": [
    {
     "name": "stdout",
     "output_type": "stream",
     "text": [
      "    Edition  Grand Total       City        Country\n",
      "21     1992         1705  Barcelona          Spain\n",
      "22     1996         1859    Atlanta  United States\n",
      "23     2000         2015     Sydney      Australia\n",
      "24     2004         1998     Athens         Greece\n",
      "25     2008         2042    Beijing          China\n"
     ]
    }
   ],
   "source": [
    "# Print tail of editions\n",
    "print(editions.tail())"
   ]
  },
  {
   "cell_type": "code",
   "execution_count": 67,
   "metadata": {},
   "outputs": [
    {
     "name": "stdout",
     "output_type": "stream",
     "text": [
      "             Country  NOC\n",
      "196          Vietnam  VIE\n",
      "197  Virgin Islands*  ISV\n",
      "198            Yemen  YEM\n",
      "199           Zambia  ZAM\n",
      "200         Zimbabwe  ZIM\n"
     ]
    }
   ],
   "source": [
    "# Print tail of ioc_codes\n",
    "print(ioc_codes.tail())"
   ]
  },
  {
   "cell_type": "code",
   "execution_count": 68,
   "metadata": {},
   "outputs": [
    {
     "name": "stdout",
     "output_type": "stream",
     "text": [
      "    Edition  Grand Total         City                     Country  NOC\n",
      "0      1896          151       Athens                      Greece  GRE\n",
      "1      1900          512        Paris                      France  FRA\n",
      "2      1904          470    St. Louis               United States  USA\n",
      "3      1908          804       London              United Kingdom  GBR\n",
      "4      1912          885    Stockholm                      Sweden  SWE\n",
      "5      1920         1298      Antwerp                     Belgium  BEL\n",
      "6      1924          884        Paris                      France  FRA\n",
      "7      1928          710    Amsterdam                 Netherlands  NED\n",
      "8      1932          615  Los Angeles               United States  USA\n",
      "9      1936          875       Berlin                     Germany  GER\n",
      "10     1948          814       London              United Kingdom  GBR\n",
      "11     1952          889     Helsinki                     Finland  FIN\n",
      "12     1956          885    Melbourne                   Australia  AUS\n",
      "13     1960          882         Rome                       Italy  ITA\n",
      "14     1964         1010        Tokyo                       Japan  JPN\n",
      "15     1968         1031  Mexico City                      Mexico  MEX\n",
      "16     1972         1185       Munich  West Germany (now Germany)  NaN\n",
      "17     1976         1305     Montreal                      Canada  CAN\n",
      "18     1980         1387       Moscow       U.S.S.R. (now Russia)  NaN\n",
      "19     1984         1459  Los Angeles               United States  USA\n",
      "20     1988         1546        Seoul                 South Korea  NaN\n",
      "21     1992         1705    Barcelona                       Spain  ESP\n",
      "22     1996         1859      Atlanta               United States  USA\n",
      "23     2000         2015       Sydney                   Australia  AUS\n",
      "24     2004         1998       Athens                      Greece  GRE\n",
      "25     2008         2042      Beijing                       China  CHN\n"
     ]
    }
   ],
   "source": [
    "# Left join editions and ioc_codes: hosts\n",
    "hosts = pd.merge(editions, ioc_codes, how=\"left\")\n",
    "\n",
    "print(hosts)"
   ]
  },
  {
   "cell_type": "code",
   "execution_count": 63,
   "metadata": {},
   "outputs": [
    {
     "name": "stdout",
     "output_type": "stream",
     "text": [
      "         NOC\n",
      "Edition     \n",
      "1992     ESP\n",
      "1996     USA\n",
      "2000     AUS\n",
      "2004     GRE\n",
      "2008     CHN\n"
     ]
    }
   ],
   "source": [
    "# Extract relevant columns and set index: hosts\n",
    "hosts = hosts.loc[:, [\"Edition\", \"NOC\"]].set_index(\"Edition\")\n",
    "\n",
    "print(hosts.tail())"
   ]
  },
  {
   "cell_type": "code",
   "execution_count": 64,
   "metadata": {},
   "outputs": [
    {
     "name": "stdout",
     "output_type": "stream",
     "text": [
      "         NOC\n",
      "Edition     \n",
      "1972     NaN\n",
      "1980     NaN\n",
      "1988     NaN\n"
     ]
    }
   ],
   "source": [
    "# Inspect missing 'NOC' values of hosts\n",
    "print(hosts.loc[hosts.NOC.isnull()])"
   ]
  },
  {
   "cell_type": "code",
   "execution_count": 65,
   "metadata": {},
   "outputs": [
    {
     "name": "stdout",
     "output_type": "stream",
     "text": [
      "    Edition  NOC\n",
      "0      1896  GRE\n",
      "1      1900  FRA\n",
      "2      1904  USA\n",
      "3      1908  GBR\n",
      "4      1912  SWE\n",
      "5      1920  BEL\n",
      "6      1924  FRA\n",
      "7      1928  NED\n",
      "8      1932  USA\n",
      "9      1936  GER\n",
      "10     1948  GBR\n",
      "11     1952  FIN\n",
      "12     1956  AUS\n",
      "13     1960  ITA\n",
      "14     1964  JPN\n",
      "15     1968  MEX\n",
      "16     1972  FRG\n",
      "17     1976  CAN\n",
      "18     1980  URS\n",
      "19     1984  USA\n",
      "20     1988  KOR\n",
      "21     1992  ESP\n",
      "22     1996  USA\n",
      "23     2000  AUS\n",
      "24     2004  GRE\n",
      "25     2008  CHN\n"
     ]
    }
   ],
   "source": [
    "# Fix missing 'NOC' values of hosts\n",
    "hosts.loc[1972, 'NOC'] = 'FRG'\n",
    "hosts.loc[1980, 'NOC'] = 'URS'\n",
    "hosts.loc[1988, 'NOC'] = 'KOR'\n",
    "\n",
    "# Reset Index of hosts: hosts\n",
    "hosts = hosts.reset_index()\n",
    "\n",
    "# Print hosts\n",
    "print(hosts)"
   ]
  },
  {
   "cell_type": "markdown",
   "metadata": {},
   "source": [
    "Good job! You now have a DataFrame consisting of all the hosts.\n",
    "\n"
   ]
  },
  {
   "cell_type": "markdown",
   "metadata": {},
   "source": [
    "## 8. Reshaping for analysis\n",
    "This exercise starts off with `fractions_change` and `hosts`.\n",
    "\n",
    "Your task here is to reshape the `fractions_change` DataFrame for later analysis.\n",
    "\n",
    "Initially, `fractions_change` is a wide DataFrame of 26 rows (one for each Olympic edition) and 139 columns (one for the edition and 138 for the competing countries).\n",
    "\n",
    "On reshaping with `pd.melt()`, as you will see, the result is a tall DataFrame with 3588 rows and 3 columns that summarizes the fractional change in the expanding mean of the percentage of medals won for each country in blocks."
   ]
  },
  {
   "cell_type": "code",
   "execution_count": 72,
   "metadata": {},
   "outputs": [
    {
     "name": "stdout",
     "output_type": "stream",
     "text": [
      "NOC  Edition  AFG  AHO        ALG  ANZ       ARG        ARM        AUS  \\\n",
      "21      1992  NaN  0.0  -7.214076  0.0 -6.767308        NaN   2.754114   \n",
      "22      1996  NaN  0.0   8.959211  0.0  1.306696        NaN  10.743275   \n",
      "23      2000  NaN  0.0  19.762488  0.0  0.515190 -26.935484  12.554986   \n",
      "24      2004  NaN  0.0   0.000000  0.0  9.625365   0.000000   8.161162   \n",
      "25      2008  NaN  0.0  -8.197807  0.0  8.588555  91.266408   6.086870   \n",
      "\n",
      "NOC       AUT        AZE ...   URS        URU       USA        UZB       VEN  \\\n",
      "21  -3.034840        NaN ...   0.0   0.000000 -1.329330        NaN  0.000000   \n",
      "22  -3.876773        NaN ...   0.0   0.000000 -1.010378        NaN  0.000000   \n",
      "23  -3.464221  88.387097 ...   0.0 -12.025323 -1.341842  42.258065  0.000000   \n",
      "24  -2.186922  48.982144 ...   0.0   0.000000 -1.031922  21.170339 -1.615969   \n",
      "25  -3.389836  31.764436 ...   0.0   0.000000 -0.450031  14.610625 -6.987342   \n",
      "\n",
      "NOC       VIE       YUG        ZAM        ZIM  ZZX  \n",
      "21        NaN  0.000000   0.000000   0.000000  0.0  \n",
      "22        NaN -2.667732 -10.758472   0.000000  0.0  \n",
      "23        NaN -2.696445   0.000000   0.000000  0.0  \n",
      "24   0.000000  0.000000   0.000000 -43.491929  0.0  \n",
      "25  -0.661117  0.000000   0.000000 -23.316533  0.0  \n",
      "\n",
      "[5 rows x 139 columns]\n"
     ]
    }
   ],
   "source": [
    "# Reset index for fractions_change\n",
    "fractions_change = fractions_change.reset_index()\n",
    "\n",
    "print(fractions_change.tail())"
   ]
  },
  {
   "cell_type": "code",
   "execution_count": 75,
   "metadata": {},
   "outputs": [
    {
     "name": "stdout",
     "output_type": "stream",
     "text": [
      "      Edition  NOC  Change\n",
      "3583     1992  ZZX     0.0\n",
      "3584     1996  ZZX     0.0\n",
      "3585     2000  ZZX     0.0\n",
      "3586     2004  ZZX     0.0\n",
      "3587     2008  ZZX     0.0\n"
     ]
    }
   ],
   "source": [
    "# Reshape fractions_change: reshaped\n",
    "reshaped = pd.melt(fractions_change, id_vars = \"Edition\", value_name = \"Change\")\n",
    "\n",
    "print(reshaped.tail())"
   ]
  },
  {
   "cell_type": "code",
   "execution_count": 73,
   "metadata": {
    "scrolled": true
   },
   "outputs": [
    {
     "name": "stdout",
     "output_type": "stream",
     "text": [
      "(3588, 3) (26, 139)\n"
     ]
    }
   ],
   "source": [
    "# Print reshaped.shape and fractions_change.shape\n",
    "print(reshaped.shape, fractions_change.shape)"
   ]
  },
  {
   "cell_type": "code",
   "execution_count": 74,
   "metadata": {},
   "outputs": [
    {
     "name": "stdout",
     "output_type": "stream",
     "text": [
      "     Edition  NOC     Change\n",
      "567     1992  CHN   4.240630\n",
      "568     1996  CHN   7.860247\n",
      "569     2000  CHN  -3.851278\n",
      "570     2004  CHN   0.128863\n",
      "571     2008  CHN  13.251332\n"
     ]
    }
   ],
   "source": [
    "# Extract rows from reshaped where 'NOC' == 'CHN': chn\n",
    "chn = reshaped[reshaped.NOC == \"CHN\"]\n",
    "\n",
    "# Print last 5 rows of chn with .tail()\n",
    "print(chn.tail())"
   ]
  },
  {
   "cell_type": "markdown",
   "metadata": {},
   "source": [
    "Great work! On looking at the hosting countries from the last 5 Olympic editions and the fractional change of medals won by China the last 5 editions, you can see that China fared significantly better in 2008 (i.e., when China was the host country)."
   ]
  },
  {
   "cell_type": "markdown",
   "metadata": {},
   "source": [
    "## 9. Merging to compute influence\n",
    "This exercise starts off with the DataFrames `reshaped` and `hosts`.\n",
    "\n",
    "Your task is to merge the two DataFrames and tidy the result.\n",
    "\n",
    "The end result is a DataFrame summarizing the fractional change in the expanding mean of the percentage of medals won for the host country in each Olympic edition."
   ]
  },
  {
   "cell_type": "code",
   "execution_count": 78,
   "metadata": {},
   "outputs": [
    {
     "name": "stdout",
     "output_type": "stream",
     "text": [
      "    Edition  Grand Total       City        Country  NOC\n",
      "21     1992         1705  Barcelona          Spain  ESP\n",
      "22     1996         1859    Atlanta  United States  USA\n",
      "23     2000         2015     Sydney      Australia  AUS\n",
      "24     2004         1998     Athens         Greece  GRE\n",
      "25     2008         2042    Beijing          China  CHN\n"
     ]
    }
   ],
   "source": [
    "# Print tail of hosts\n",
    "print(hosts.tail())"
   ]
  },
  {
   "cell_type": "code",
   "execution_count": 79,
   "metadata": {},
   "outputs": [
    {
     "name": "stdout",
     "output_type": "stream",
     "text": [
      "      Edition  NOC  Change\n",
      "3583     1992  ZZX     0.0\n",
      "3584     1996  ZZX     0.0\n",
      "3585     2000  ZZX     0.0\n",
      "3586     2004  ZZX     0.0\n",
      "3587     2008  ZZX     0.0\n"
     ]
    }
   ],
   "source": [
    "# Print tail of reshaped\n",
    "print(reshaped.tail())"
   ]
  },
  {
   "cell_type": "code",
   "execution_count": 81,
   "metadata": {},
   "outputs": [
    {
     "name": "stdout",
     "output_type": "stream",
     "text": [
      "    Edition  NOC      Change  Grand Total         City        Country\n",
      "18     1912  SWE   71.896226          885    Stockholm         Sweden\n",
      "19     1904  USA  199.651245          470    St. Louis  United States\n",
      "20     1932  USA    3.739184          615  Los Angeles  United States\n",
      "21     1984  USA    1.304939         1459  Los Angeles  United States\n",
      "22     1996  USA   -1.010378         1859      Atlanta  United States\n"
     ]
    }
   ],
   "source": [
    "# Merge reshaped and hosts: merged\n",
    "merged = pd.merge(reshaped, hosts)\n",
    "\n",
    "# Print last 5 rows of merged\n",
    "print(merged.tail())"
   ]
  },
  {
   "cell_type": "code",
   "execution_count": 84,
   "metadata": {},
   "outputs": [
    {
     "name": "stdout",
     "output_type": "stream",
     "text": [
      "         NOC     Change  Grand Total       City        Country\n",
      "Edition                                                       \n",
      "1992     ESP  32.943248         1705  Barcelona          Spain\n",
      "1996     USA  -1.010378         1859    Atlanta  United States\n",
      "2000     AUS  12.554986         2015     Sydney      Australia\n",
      "2004     GRE  -2.478635         1998     Athens         Greece\n",
      "2008     CHN  13.251332         2042    Beijing          China\n"
     ]
    }
   ],
   "source": [
    "# Set Index of merged and sort it: influence\n",
    "influence = merged.set_index(\"Edition\").sort_index()\n",
    "\n",
    "# Print last 5 rows of influence\n",
    "print(influence.tail())"
   ]
  },
  {
   "cell_type": "markdown",
   "metadata": {},
   "source": [
    "Well done! It would be far more informative to visualize these results. This is exactly what you'll do in the next exercise!\n",
    "\n"
   ]
  },
  {
   "cell_type": "markdown",
   "metadata": {},
   "source": [
    "## 10. Plotting influence of host country\n",
    "This final exercise starts off with the DataFrames `influence` and `editions` in the namespace. Your job is to plot the influence of being a host country."
   ]
  },
  {
   "cell_type": "code",
   "execution_count": 91,
   "metadata": {},
   "outputs": [
    {
     "data": {
      "image/png": "[encoded data removed]",
      "text/plain": [
       "<Figure size 1152x432 with 1 Axes>"
      ]
     },
     "metadata": {
      "needs_background": "light"
     },
     "output_type": "display_data"
    }
   ],
   "source": [
    "# Import pyplot\n",
    "import matplotlib.pyplot as plt\n",
    "\n",
    "# Extract influence['Change']: change\n",
    "change = influence[\"Change\"]\n",
    "\n",
    "# Make bar plot of change: ax\n",
    "ax = change.plot(kind=\"bar\", figsize=(16, 6))\n",
    "\n",
    "# Customize the plot to improve readability\n",
    "ax.set_ylabel(\"% Change of Host Country Medal Count\")\n",
    "ax.set_title(\"Is there a Host Country Advantage?\")\n",
    "ax.set_xticklabels(editions['City'])\n",
    "\n",
    "# Display the plot\n",
    "plt.show();"
   ]
  },
  {
   "cell_type": "markdown",
   "metadata": {},
   "source": [
    "Fantastic work! What do you think - is there a host country advantage?\n",
    "\n"
   ]
  },
  {
   "cell_type": "markdown",
   "metadata": {},
   "source": [
    "**ANSWER**: Yes - Host countries show a huge percentage change in the count of medals won compared to those who are not hosting the Olympics."
   ]
  }
 ],
 "metadata": {
  "kernelspec": {
   "display_name": "Python 3",
   "language": "python",
   "name": "python3"
  },
  "language_info": {
   "codemirror_mode": {
    "name": "ipython",
    "version": 3
   },
   "file_extension": ".py",
   "mimetype": "text/x-python",
   "name": "python",
   "nbconvert_exporter": "python",
   "pygments_lexer": "ipython3",
   "version": "3.7.1"
  }
 },
 "nbformat": 4,
 "nbformat_minor": 2
}
