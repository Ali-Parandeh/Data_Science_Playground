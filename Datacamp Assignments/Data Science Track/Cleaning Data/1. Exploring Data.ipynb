{
 "cells": [
  {
   "cell_type": "markdown",
   "metadata": {},
   "source": [
    "# Exploring data\n",
    "### 1. Loading and viewing your data\n",
    "This is a subset of the Department of Buildings Job Application Filings dataset from the [NYC Open Data portal](http://opendata.cityofnewyork.us/). This dataset consists of job applications filed on January 22, 2017.\n",
    "\n",
    "Load this dataset into a DataFrame and then inspect it using the `.head()` and `.tail()` methods. However, printed results alone is not useful, since there are too many columns. Therefore, data must be looked at another way.\n",
    "\n",
    "The `.shape` and `.column`s attributes let you see the shape of the DataFrame and obtain a list of its columns. \n",
    "\n",
    "This initial exploratory analysis is a crucial first step of data cleaning."
   ]
  },
  {
   "cell_type": "code",
   "execution_count": 3,
   "metadata": {
    "scrolled": false
   },
   "outputs": [],
   "source": [
    "# Import pandas\n",
    "import pandas as pd\n",
    "\n",
    "# Read the file into a DataFrame: df\n",
    "df = pd.read_csv(\"datasets/dob_job_application_filings.csv\")"
   ]
  },
  {
   "cell_type": "code",
   "execution_count": 5,
   "metadata": {
    "scrolled": false
   },
   "outputs": [
    {
     "name": "stdout",
     "output_type": "stream",
     "text": [
      "       Job #  Doc #        Borough       House #  \\\n",
      "0  121577873      2      MANHATTAN  386            \n",
      "1  520129502      1  STATEN ISLAND  107            \n",
      "2  121601560      1      MANHATTAN  63             \n",
      "3  121601203      1      MANHATTAN  48             \n",
      "4  121601338      1      MANHATTAN  45             \n",
      "\n",
      "                        Street Name  Block  Lot    Bin # Job Type Job Status  \\\n",
      "0  PARK AVENUE SOUTH                   857   38  1016890       A2          D   \n",
      "1  KNOX PLACE                          342    1  5161350       A3          A   \n",
      "2  WEST 131 STREET                    1729    9  1053831       A2          Q   \n",
      "3  WEST 25TH STREET                    826   69  1015610       A2          D   \n",
      "4  WEST 29 STREET                      831    7  1015754       A3          D   \n",
      "\n",
      "   ...               Owner's Last Name             Owner's Business Name  \\\n",
      "0  ...  MIGLIORE                        MACKLOWE MANAGEMENT                \n",
      "1  ...  BLUMENBERG                      NA                                 \n",
      "2  ...  MARKOWITZ                       635 RIVERSIDE DRIVE NY LLC         \n",
      "3  ...  CASALE                          48 W 25 ST LLC C/O BERNSTEIN       \n",
      "4  ...  LEE                             HYUNG-HYANG REALTY CORP            \n",
      "\n",
      "  Owner's House Number          Owner'sHouse Street Name            City   \\\n",
      "0         126           EAST 56TH STREET                  NEW YORK          \n",
      "1         107           KNOX PLACE                        STATEN ISLAND     \n",
      "2         619           WEST 54TH STREET                  NEW YORK          \n",
      "3         150           WEST 30TH STREET                  NEW YORK          \n",
      "4         614           8 AVENUE                          NEW YORK          \n",
      "\n",
      "  State    Zip Owner'sPhone #  \\\n",
      "0    NY  10222     2125545837   \n",
      "1    NY  10314     3477398892   \n",
      "2    NY  10016     2127652555   \n",
      "3    NY  10001     2125941414   \n",
      "4    NY  10001     2019881222   \n",
      "\n",
      "                                     Job Description              DOBRunDate  \n",
      "0  GENERAL MECHANICAL & PLUMBING MODIFICATIONS AS...  04/26/2013 12:00:00 AM  \n",
      "1  BUILDERS PAVEMENT PLAN 143 LF.                ...  04/26/2013 12:00:00 AM  \n",
      "2  GENERAL CONSTRUCTION TO INCLUDE NEW PARTITIONS...  04/26/2013 12:00:00 AM  \n",
      "3  STRUCTURAL CHANGES ON THE 5TH FLOOR (MOONDOG E...  04/26/2013 12:00:00 AM  \n",
      "4  FILING HEREWITH FACADE REPAIR PLANS. WORK SCOP...  04/26/2013 12:00:00 AM  \n",
      "\n",
      "[5 rows x 82 columns]\n"
     ]
    }
   ],
   "source": [
    "# Print the head of df\n",
    "print(df.head())"
   ]
  },
  {
   "cell_type": "code",
   "execution_count": 14,
   "metadata": {
    "scrolled": false
   },
   "outputs": [
    {
     "name": "stdout",
     "output_type": "stream",
     "text": [
      "           Job #  Doc #        Borough       House #  \\\n",
      "12841  520143988      1  STATEN ISLAND  8              \n",
      "12842  121613833      1      MANHATTAN  724            \n",
      "12843  121681260      1      MANHATTAN  350            \n",
      "12844  320771704      1       BROOKLYN  499            \n",
      "12845  520143951      1  STATEN ISLAND  1755           \n",
      "\n",
      "                            Street Name  Block  Lot    Bin # Job Type  \\\n",
      "12841  NOEL STREET                        5382   20  5069722       A2   \n",
      "12842  10 AVENUE                          1059    4  1082503       A2   \n",
      "12843  MANHATTAN AVE.                     1848   31  1055849       A2   \n",
      "12844  UNION STREET                        431   43  3007185       A2   \n",
      "12845  RICHMOND ROAD                       887   28  5022931       A2   \n",
      "\n",
      "      Job Status  ...               Owner's Last Name  \\\n",
      "12841          D  ...  MALITO                           \n",
      "12842          D  ...  CROMAN                           \n",
      "12843          A  ...  ARYEH                            \n",
      "12844          D  ...  WIGGINS                          \n",
      "12845          D  ...  CAMBRIA                          \n",
      "\n",
      "                  Owner's Business Name Owner's House Number  \\\n",
      "12841  GENO MALITO                              8              \n",
      "12842  722-724 10TH AVENUE HOLDING LLC          632            \n",
      "12843  DG UWS LLC                               619            \n",
      "12844  N/A                                      77             \n",
      "12845  RONALD CAMBRIA                           1755           \n",
      "\n",
      "               Owner'sHouse Street Name            City  State    Zip  \\\n",
      "12841  NOEL STREET                       STATEN ISLAND      NY  10312   \n",
      "12842  BROADWAY                          NEW YORK           NY  10012   \n",
      "12843  WEST 54TH STREET                  NEW YORK           NY  10019   \n",
      "12844  PROSPECT PLACE                    BROOKLYN           NY  11217   \n",
      "12845  RICHMOND ROAD                     STATEN ISLAND      NY  10304   \n",
      "\n",
      "      Owner'sPhone #                                    Job Description  \\\n",
      "12841     9174685659  HORIZONTAL ENLARGEMENT OF ATTACHED ONE CAR GAR...   \n",
      "12842     2122289300  RENOVATION OF EXISTING APARTMENT #3B ON THIRD ...   \n",
      "12843     2127652555  REPLACE BURNER IN EXSTG BOILER WITH NEW GAS BU...   \n",
      "12844     9178487799  INSTALL NEW SPRINKLER SYSTEM THROUGHOUT THE BU...   \n",
      "12845     7184482740  INTERIOR PARTITIONS AND MINOR PLUMBING WORK TO...   \n",
      "\n",
      "                   DOBRunDate  \n",
      "12841  06/13/2013 12:00:00 AM  \n",
      "12842  06/13/2013 12:00:00 AM  \n",
      "12843  06/13/2013 12:00:00 AM  \n",
      "12844  06/13/2013 12:00:00 AM  \n",
      "12845  06/13/2013 12:00:00 AM  \n",
      "\n",
      "[5 rows x 82 columns]\n"
     ]
    }
   ],
   "source": [
    "# Print the tail of df\n",
    "print(df.tail())"
   ]
  },
  {
   "cell_type": "code",
   "execution_count": 12,
   "metadata": {
    "scrolled": true
   },
   "outputs": [
    {
     "name": "stdout",
     "output_type": "stream",
     "text": [
      "(12846, 82)\n"
     ]
    }
   ],
   "source": [
    "# Print the shape of df\n",
    "print(df.shape)"
   ]
  },
  {
   "cell_type": "code",
   "execution_count": 10,
   "metadata": {
    "scrolled": false
   },
   "outputs": [
    {
     "name": "stdout",
     "output_type": "stream",
     "text": [
      "Index(['Job #', 'Doc #', 'Borough', 'House #', 'Street Name', 'Block', 'Lot',\n",
      "       'Bin #', 'Job Type', 'Job Status', 'Job Status Descrp',\n",
      "       'Latest Action Date', 'Building Type', 'Community - Board', 'Cluster',\n",
      "       'Landmarked', 'Adult Estab', 'Loft Board', 'City Owned', 'Little e',\n",
      "       'PC Filed', 'eFiling Filed', 'Plumbing', 'Mechanical', 'Boiler',\n",
      "       'Fuel Burning', 'Fuel Storage', 'Standpipe', 'Sprinkler', 'Fire Alarm',\n",
      "       'Equipment', 'Fire Suppression', 'Curb Cut', 'Other',\n",
      "       'Other Description', 'Applicant's First Name', 'Applicant's Last Name',\n",
      "       'Applicant Professional Title', 'Applicant License #',\n",
      "       'Professional Cert', 'Pre- Filing Date', 'Paid', 'Fully Paid',\n",
      "       'Assigned', 'Approved', 'Fully Permitted', 'Initial Cost',\n",
      "       'Total Est. Fee', 'Fee Status', 'Existing Zoning Sqft',\n",
      "       'Proposed Zoning Sqft', 'Horizontal Enlrgmt', 'Vertical Enlrgmt',\n",
      "       'Enlargement SQ Footage', 'Street Frontage', 'ExistingNo. of Stories',\n",
      "       'Proposed No. of Stories', 'Existing Height', 'Proposed Height',\n",
      "       'Existing Dwelling Units', 'Proposed Dwelling Units',\n",
      "       'Existing Occupancy', 'Proposed Occupancy', 'Site Fill', 'Zoning Dist1',\n",
      "       'Zoning Dist2', 'Zoning Dist3', 'Special District 1',\n",
      "       'Special District 2', 'Owner Type', 'Non-Profit', 'Owner's First Name',\n",
      "       'Owner's Last Name', 'Owner's Business Name', 'Owner's House Number',\n",
      "       'Owner'sHouse Street Name', 'City ', 'State', 'Zip', 'Owner'sPhone #',\n",
      "       'Job Description', 'DOBRunDate'],\n",
      "      dtype='object')\n"
     ]
    }
   ],
   "source": [
    "# Print the columns of df\n",
    "print(df.columns)"
   ]
  },
  {
   "cell_type": "markdown",
   "metadata": {},
   "source": [
    "In addition to the suspicious number of `0` values, which may represent missing data, the columns that contain monetary values - `'Initial Cost'` and `'Total Est. Fee'` - have a dollar sign in the beginning. These columns may be coded as strings instead of numeric values."
   ]
  },
  {
   "cell_type": "markdown",
   "metadata": {},
   "source": [
    "### 2. Further diagnosis\n",
    "The `.info()` method provides important information about a DataFrame, such as the number of rows, number of columns, number of non-missing values in each column, and the data type stored in each column. This is the kind of information that will confirm whether the `'Initial Cost'` and `'Total Est. Fee'` columns are numeric or strings."
   ]
  },
  {
   "cell_type": "code",
   "execution_count": 131,
   "metadata": {},
   "outputs": [],
   "source": [
    "df_subset = df[[\"Job #\",\"Doc #\",\"Borough\",\"Initial Cost\", \"Total Est. Fee\",\"Existing Zoning Sqft\",  \n",
    "                \"Proposed Zoning Sqft\", \"Enlargement SQ Footage\", \"Street Frontage\", \"ExistingNo. of Stories\",\n",
    "               \"Proposed No. of Stories\",\"Existing Height\",\"Proposed Height\"  ]]"
   ]
  },
  {
   "cell_type": "code",
   "execution_count": 18,
   "metadata": {
    "scrolled": false
   },
   "outputs": [
    {
     "name": "stdout",
     "output_type": "stream",
     "text": [
      "<class 'pandas.core.frame.DataFrame'>\n",
      "RangeIndex: 12846 entries, 0 to 12845\n",
      "Data columns (total 13 columns):\n",
      "Job #                      12846 non-null int64\n",
      "Doc #                      12846 non-null int64\n",
      "Borough                    12846 non-null object\n",
      "Initial Cost               12846 non-null object\n",
      "Total Est. Fee             12846 non-null object\n",
      "Existing Zoning Sqft       12846 non-null int64\n",
      "Proposed Zoning Sqft       12846 non-null int64\n",
      "Enlargement SQ Footage     12846 non-null int64\n",
      "Street Frontage            12846 non-null int64\n",
      "ExistingNo. of Stories     12846 non-null int64\n",
      "Proposed No. of Stories    12846 non-null int64\n",
      "Existing Height            12846 non-null int64\n",
      "Proposed Height            12846 non-null int64\n",
      "dtypes: int64(10), object(3)\n",
      "memory usage: 1.3+ MB\n",
      "None\n"
     ]
    }
   ],
   "source": [
    "# Print the info of df\n",
    "print(df_subset.info())"
   ]
  },
  {
   "cell_type": "markdown",
   "metadata": {},
   "source": [
    "The columns `'Initial Cost'` and `'Total Est. Fee'` are of type `object`. The currency sign in the beginning of each value in these columns needs to be removed, and the columns need to be converted to numeric. In the full DataFrame, note that there are a lot of missing values. There are also a lot of `0` values. Given the amount of data that is missing in the full dataset, it's highly likely that these `0` values represent missing data."
   ]
  },
  {
   "cell_type": "code",
   "execution_count": 19,
   "metadata": {},
   "outputs": [
    {
     "data": {
      "text/html": [
       "<div>\n",
       "<style scoped>\n",
       "    .dataframe tbody tr th:only-of-type {\n",
       "        vertical-align: middle;\n",
       "    }\n",
       "\n",
       "    .dataframe tbody tr th {\n",
       "        vertical-align: top;\n",
       "    }\n",
       "\n",
       "    .dataframe thead th {\n",
       "        text-align: right;\n",
       "    }\n",
       "</style>\n",
       "<table border=\"1\" class=\"dataframe\">\n",
       "  <thead>\n",
       "    <tr style=\"text-align: right;\">\n",
       "      <th></th>\n",
       "      <th>Job #</th>\n",
       "      <th>Doc #</th>\n",
       "      <th>Existing Zoning Sqft</th>\n",
       "      <th>Proposed Zoning Sqft</th>\n",
       "      <th>Enlargement SQ Footage</th>\n",
       "      <th>Street Frontage</th>\n",
       "      <th>ExistingNo. of Stories</th>\n",
       "      <th>Proposed No. of Stories</th>\n",
       "      <th>Existing Height</th>\n",
       "      <th>Proposed Height</th>\n",
       "    </tr>\n",
       "  </thead>\n",
       "  <tbody>\n",
       "    <tr>\n",
       "      <th>count</th>\n",
       "      <td>1.284600e+04</td>\n",
       "      <td>12846.000000</td>\n",
       "      <td>1.284600e+04</td>\n",
       "      <td>1.284600e+04</td>\n",
       "      <td>12846.000000</td>\n",
       "      <td>12846.000000</td>\n",
       "      <td>12846.000000</td>\n",
       "      <td>12846.000000</td>\n",
       "      <td>12846.000000</td>\n",
       "      <td>12846.000000</td>\n",
       "    </tr>\n",
       "    <tr>\n",
       "      <th>mean</th>\n",
       "      <td>2.426788e+08</td>\n",
       "      <td>1.162930</td>\n",
       "      <td>1.439973e+03</td>\n",
       "      <td>2.007286e+03</td>\n",
       "      <td>46.101432</td>\n",
       "      <td>3.069360</td>\n",
       "      <td>8.062354</td>\n",
       "      <td>8.144325</td>\n",
       "      <td>94.022809</td>\n",
       "      <td>94.917562</td>\n",
       "    </tr>\n",
       "    <tr>\n",
       "      <th>std</th>\n",
       "      <td>1.312507e+08</td>\n",
       "      <td>0.514937</td>\n",
       "      <td>3.860757e+04</td>\n",
       "      <td>4.081570e+04</td>\n",
       "      <td>784.216569</td>\n",
       "      <td>37.246034</td>\n",
       "      <td>11.874080</td>\n",
       "      <td>11.843492</td>\n",
       "      <td>146.917360</td>\n",
       "      <td>146.580666</td>\n",
       "    </tr>\n",
       "    <tr>\n",
       "      <th>min</th>\n",
       "      <td>1.036438e+08</td>\n",
       "      <td>1.000000</td>\n",
       "      <td>0.000000e+00</td>\n",
       "      <td>0.000000e+00</td>\n",
       "      <td>0.000000</td>\n",
       "      <td>0.000000</td>\n",
       "      <td>0.000000</td>\n",
       "      <td>0.000000</td>\n",
       "      <td>0.000000</td>\n",
       "      <td>0.000000</td>\n",
       "    </tr>\n",
       "    <tr>\n",
       "      <th>25%</th>\n",
       "      <td>1.216206e+08</td>\n",
       "      <td>1.000000</td>\n",
       "      <td>0.000000e+00</td>\n",
       "      <td>0.000000e+00</td>\n",
       "      <td>0.000000</td>\n",
       "      <td>0.000000</td>\n",
       "      <td>1.000000</td>\n",
       "      <td>2.000000</td>\n",
       "      <td>20.000000</td>\n",
       "      <td>21.000000</td>\n",
       "    </tr>\n",
       "    <tr>\n",
       "      <th>50%</th>\n",
       "      <td>2.202645e+08</td>\n",
       "      <td>1.000000</td>\n",
       "      <td>0.000000e+00</td>\n",
       "      <td>0.000000e+00</td>\n",
       "      <td>0.000000</td>\n",
       "      <td>0.000000</td>\n",
       "      <td>4.000000</td>\n",
       "      <td>4.000000</td>\n",
       "      <td>45.000000</td>\n",
       "      <td>45.000000</td>\n",
       "    </tr>\n",
       "    <tr>\n",
       "      <th>75%</th>\n",
       "      <td>3.208652e+08</td>\n",
       "      <td>1.000000</td>\n",
       "      <td>0.000000e+00</td>\n",
       "      <td>0.000000e+00</td>\n",
       "      <td>0.000000</td>\n",
       "      <td>0.000000</td>\n",
       "      <td>9.000000</td>\n",
       "      <td>9.000000</td>\n",
       "      <td>105.000000</td>\n",
       "      <td>107.000000</td>\n",
       "    </tr>\n",
       "    <tr>\n",
       "      <th>max</th>\n",
       "      <td>5.400246e+08</td>\n",
       "      <td>9.000000</td>\n",
       "      <td>2.873107e+06</td>\n",
       "      <td>2.873107e+06</td>\n",
       "      <td>50384.000000</td>\n",
       "      <td>3160.000000</td>\n",
       "      <td>102.000000</td>\n",
       "      <td>102.000000</td>\n",
       "      <td>4200.000000</td>\n",
       "      <td>4200.000000</td>\n",
       "    </tr>\n",
       "  </tbody>\n",
       "</table>\n",
       "</div>"
      ],
      "text/plain": [
       "              Job #         Doc #  Existing Zoning Sqft  Proposed Zoning Sqft  \\\n",
       "count  1.284600e+04  12846.000000          1.284600e+04          1.284600e+04   \n",
       "mean   2.426788e+08      1.162930          1.439973e+03          2.007286e+03   \n",
       "std    1.312507e+08      0.514937          3.860757e+04          4.081570e+04   \n",
       "min    1.036438e+08      1.000000          0.000000e+00          0.000000e+00   \n",
       "25%    1.216206e+08      1.000000          0.000000e+00          0.000000e+00   \n",
       "50%    2.202645e+08      1.000000          0.000000e+00          0.000000e+00   \n",
       "75%    3.208652e+08      1.000000          0.000000e+00          0.000000e+00   \n",
       "max    5.400246e+08      9.000000          2.873107e+06          2.873107e+06   \n",
       "\n",
       "       Enlargement SQ Footage  Street Frontage  ExistingNo. of Stories  \\\n",
       "count            12846.000000     12846.000000            12846.000000   \n",
       "mean                46.101432         3.069360                8.062354   \n",
       "std                784.216569        37.246034               11.874080   \n",
       "min                  0.000000         0.000000                0.000000   \n",
       "25%                  0.000000         0.000000                1.000000   \n",
       "50%                  0.000000         0.000000                4.000000   \n",
       "75%                  0.000000         0.000000                9.000000   \n",
       "max              50384.000000      3160.000000              102.000000   \n",
       "\n",
       "       Proposed No. of Stories  Existing Height  Proposed Height  \n",
       "count             12846.000000     12846.000000     12846.000000  \n",
       "mean                  8.144325        94.022809        94.917562  \n",
       "std                  11.843492       146.917360       146.580666  \n",
       "min                   0.000000         0.000000         0.000000  \n",
       "25%                   2.000000        20.000000        21.000000  \n",
       "50%                   4.000000        45.000000        45.000000  \n",
       "75%                   9.000000       105.000000       107.000000  \n",
       "max                 102.000000      4200.000000      4200.000000  "
      ]
     },
     "execution_count": 19,
     "metadata": {},
     "output_type": "execute_result"
    }
   ],
   "source": [
    "df_subset.describe()"
   ]
  },
  {
   "cell_type": "markdown",
   "metadata": {},
   "source": [
    "### 3. Frequency counts for categorical data\n",
    "`.describe()` can only be used on numeric columns. So how one can diagnose data issues when you have categorical data? One way is by using the `.value_counts()` method, which returns the frequency counts for each unique value in a column!\n",
    "\n",
    "This method also has an optional parameter called `dropna` which is `True` by default. What this means is if having missing data in a column, it will not give a frequency count of them. Set the `dropna` column to `False` so if there are missing values in a column, it will give the frequency counts.\n",
    "\n",
    "Look at the `'Borough'`, `'State'`, and `'Site Fill'` columns to make sure all the values in there are valid. When looking at the output, do a sanity check: Are all values in the `'State'` column from NY, for example? Since the dataset consists of applications filed in NY, this is expected to be the case."
   ]
  },
  {
   "cell_type": "code",
   "execution_count": 26,
   "metadata": {
    "scrolled": false
   },
   "outputs": [
    {
     "name": "stdout",
     "output_type": "stream",
     "text": [
      "MANHATTAN        6310\n",
      "BROOKLYN         2866\n",
      "QUEENS           2121\n",
      "BRONX             974\n",
      "STATEN ISLAND     575\n",
      "Name: Borough, dtype: int64\n"
     ]
    }
   ],
   "source": [
    "# Print the value counts for 'Borough'\n",
    "print(df['Borough'].value_counts(dropna=False))"
   ]
  },
  {
   "cell_type": "code",
   "execution_count": 27,
   "metadata": {},
   "outputs": [
    {
     "name": "stdout",
     "output_type": "stream",
     "text": [
      "NY    12391\n",
      "NJ      241\n",
      "PA       38\n",
      "CA       20\n",
      "OH       19\n",
      "IL       17\n",
      "FL       17\n",
      "CT       16\n",
      "TX       13\n",
      "TN       10\n",
      "DC        7\n",
      "MD        7\n",
      "GA        6\n",
      "KS        6\n",
      "MA        6\n",
      "VA        5\n",
      "CO        4\n",
      "WI        3\n",
      "AZ        3\n",
      "SC        3\n",
      "MN        3\n",
      "RI        2\n",
      "NC        2\n",
      "UT        2\n",
      "VT        1\n",
      "IN        1\n",
      "NM        1\n",
      "WA        1\n",
      "MI        1\n",
      "Name: State, dtype: int64\n"
     ]
    }
   ],
   "source": [
    "# Print the value_counts for 'State'\n",
    "print(df['State'].value_counts(dropna=False))"
   ]
  },
  {
   "cell_type": "code",
   "execution_count": 28,
   "metadata": {
    "scrolled": false
   },
   "outputs": [
    {
     "name": "stdout",
     "output_type": "stream",
     "text": [
      "NOT APPLICABLE                              7806\n",
      "NaN                                         4205\n",
      "ON-SITE                                      519\n",
      "OFF-SITE                                     186\n",
      "USE UNDER 300 CU.YD                          130\n",
      "Name: Site Fill, dtype: int64\n"
     ]
    }
   ],
   "source": [
    "# Print the value counts for 'Site Fill'\n",
    "print(df['Site Fill'].value_counts(dropna=False))"
   ]
  },
  {
   "cell_type": "markdown",
   "metadata": {},
   "source": [
    "Notice how not all values in the `'State'` column are `NY`. This is an interesting find, as this data is supposed to consist of applications filed in `NYC`. Curiously, all the `'Borough'` values are correct. A good start as to why this may be the case would be to find and look at the codebook for this dataset. Also, for the `'Site Fill'` column, recoding the `NOT APPLICABLE` values to `NaN` in the final analysis may or may not be needed."
   ]
  },
  {
   "cell_type": "markdown",
   "metadata": {},
   "source": [
    "### 4. Visualizing single variables with histograms\n",
    "One of the best ways to confirm what the numbers saying is to plot and visualise the data.\n",
    "\n",
    "Start by visualizing single variables using a histogram for numeric values. Work on the column `'Existing Zoning Sqft'`.\n",
    "\n",
    "The `.plot()` method creates a plot of each column of a DataFrame. The `kind` parameter specifies the type of plot to use - `kind='hist'`, for example, plots a histogram.\n",
    "\n",
    "Compute the summary statistics for the `'Existing Zoning Sqft'` column using the `.describe()` method. "
   ]
  },
  {
   "cell_type": "code",
   "execution_count": 33,
   "metadata": {},
   "outputs": [
    {
     "data": {
      "text/plain": [
       "count    1.284600e+04\n",
       "mean     1.439973e+03\n",
       "std      3.860757e+04\n",
       "min      0.000000e+00\n",
       "25%      0.000000e+00\n",
       "50%      0.000000e+00\n",
       "75%      0.000000e+00\n",
       "max      2.873107e+06\n",
       "Name: Existing Zoning Sqft, dtype: float64"
      ]
     },
     "execution_count": 33,
     "metadata": {},
     "output_type": "execute_result"
    }
   ],
   "source": [
    "# Describe the column\n",
    "df['Existing Zoning Sqft'].describe()"
   ]
  },
  {
   "cell_type": "markdown",
   "metadata": {},
   "source": [
    "There are extremely large differences between the `min` and `max` values, and the plot will need to be adjusted accordingly. In such cases, it's good to look at the plot on a log scale. The keyword arguments `logx=True` or `logy=True` can be passed in to `.plot()` depending on which axis you want to rescale."
   ]
  },
  {
   "cell_type": "code",
   "execution_count": 37,
   "metadata": {},
   "outputs": [
    {
     "data": {
      "image/png": "[encoded data removed]",
      "text/plain": [
       "<Figure size 1296x360 with 1 Axes>"
      ]
     },
     "metadata": {
      "needs_background": "light"
     },
     "output_type": "display_data"
    }
   ],
   "source": [
    "%matplotlib inline\n",
    "# Import matplotlib.pyplot\n",
    "import matplotlib.pyplot as plt\n",
    "\n",
    "# Plot the histogram\n",
    "df['Existing Zoning Sqft'].plot(kind='hist', rot=70, logx=True, logy=True, figsize=(18, 5))\n",
    "\n",
    "# Display the histogram\n",
    "plt.show()"
   ]
  },
  {
   "cell_type": "markdown",
   "metadata": {},
   "source": [
    "A plot is rendered such that the axis holds all the information. That is, if large amounts of whitespace is present in the plot, it indicates counts or values are too small to render."
   ]
  },
  {
   "cell_type": "markdown",
   "metadata": {},
   "source": [
    "While visualizing data is a great way to understand it, keep in mind that no one technique is better than another. Looking at summary statistics is still needed to help understand the data better. A large amount of counts on the left side of the plot is expected because the 25th, 50th, and 75th percentiles have a value of 0. The plot shows that there are barely any counts near the `max` value, signifying an outlier."
   ]
  },
  {
   "cell_type": "markdown",
   "metadata": {},
   "source": [
    "### 5.  Visualizing multiple variables with boxplots\n",
    "Histograms are great ways of visualizing single variables. To visualize multiple variables, boxplots are useful, especially when one of the variables is categorical.\n",
    "\n",
    "Use a boxplot to compare the `'ExistingNo. of Stories'` across the different values of the `'Borough'` column. The pandas `.boxplot()` method is a quick way to do this, the column is specified and by parameters."
   ]
  },
  {
   "cell_type": "code",
   "execution_count": 94,
   "metadata": {
    "scrolled": false
   },
   "outputs": [
    {
     "data": {
      "image/png": "[encoded data removed]",
      "text/plain": [
       "<Figure size 432x288 with 1 Axes>"
      ]
     },
     "metadata": {
      "needs_background": "light"
     },
     "output_type": "display_data"
    }
   ],
   "source": [
    "# Create the boxplot\n",
    "df_subset.boxplot(column=\"Initial Cost\", by=\"Borough\", rot=90);"
   ]
  },
  {
   "cell_type": "markdown",
   "metadata": {},
   "source": [
    "Extreme outliers are in the borough of Manhattan. An initial guess could be that since land in Manhattan is extremely expensive, these outliers may be valid data points. Again, further investigation is needed to determine whether or not to drop or keep those points in the data."
   ]
  },
  {
   "cell_type": "markdown",
   "metadata": {},
   "source": [
    "### 1.6 Visualizing multiple variables with scatter plots\n",
    "Boxplots are great for numeric columns to compare across different categories. However for visualising two numeric columns, scatter plots are ideal.\n",
    "\n",
    "Make a scatter plot with `'initial_cost'` on the x-axis and the `'total_est_fee'` on the y-axis. Use the DataFrame `.plot()` method with `kind='scatter'`. "
   ]
  },
  {
   "cell_type": "code",
   "execution_count": 91,
   "metadata": {
    "scrolled": false
   },
   "outputs": [
    {
     "data": {
      "image/png": "[encoded data removed]",
      "text/plain": [
       "<Figure size 432x288 with 1 Axes>"
      ]
     },
     "metadata": {
      "needs_background": "light"
     },
     "output_type": "display_data"
    }
   ],
   "source": [
    "# Create and display the first scatter plot\n",
    "df_subset.plot(kind=\"scatter\", x=\"Initial Cost\", y=\"Total Est. Fee\", rot=70)\n",
    "plt.show()"
   ]
  },
  {
   "cell_type": "code",
   "execution_count": 104,
   "metadata": {
    "scrolled": true
   },
   "outputs": [
    {
     "data": {
      "image/png": "[encoded data removed]",
      "text/plain": [
       "<Figure size 432x288 with 1 Axes>"
      ]
     },
     "metadata": {
      "needs_background": "light"
     },
     "output_type": "display_data"
    }
   ],
   "source": [
    "# Create and display the first scatter plot\n",
    "df_subset.plot(kind=\"scatter\", x=\"Initial Cost\", y=\"Total Est. Fee\", rot=70, ylim= (0, 1e5), xlim = (0, 1e7))\n",
    "plt.show()"
   ]
  },
  {
   "cell_type": "markdown",
   "metadata": {},
   "source": [
    "There are 2 major outliers shown in the plots.\n",
    "\n",
    "In general, from the second plot it seems like there is a strong correlation between `'initial_cost'` and `'total_est_fee'`. In addition, take note of the large number of points that have an `'initial_cost'` of `0`. It is difficult to infer any trends from the first plot because it is dominated by the outliers."
   ]
  }
 ],
 "metadata": {
  "kernelspec": {
   "display_name": "Python 3",
   "language": "python",
   "name": "python3"
  },
  "language_info": {
   "codemirror_mode": {
    "name": "ipython",
    "version": 3
   },
   "file_extension": ".py",
   "mimetype": "text/x-python",
   "name": "python",
   "nbconvert_exporter": "python",
   "pygments_lexer": "ipython3",
   "version": "3.7.3"
  }
 },
 "nbformat": 4,
 "nbformat_minor": 2
}
